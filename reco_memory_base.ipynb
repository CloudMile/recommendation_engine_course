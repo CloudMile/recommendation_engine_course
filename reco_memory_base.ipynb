{
 "cells": [
  {
   "cell_type": "code",
   "execution_count": 2,
   "metadata": {},
   "outputs": [
    {
     "name": "stderr",
     "output_type": "stream",
     "text": [
      "d:\\python\\anaconda3\\envs\\py3_6\\lib\\site-packages\\h5py\\__init__.py:36: FutureWarning: Conversion of the second argument of issubdtype from `float` to `np.floating` is deprecated. In future, it will be treated as `np.float64 == np.dtype(float).type`.\n",
      "  from ._conv import register_converters as _register_converters\n"
     ]
    }
   ],
   "source": [
    "# from __future__ import division, print_function, with_statement, absolute_import, unicode_literals\n",
    "import os, sys, numpy as np, pandas as pd, tensorflow as tf, re, codecs, json\n",
    "import pickle, collections, random, math, numbers, scipy.sparse as sp\n",
    "\n",
    "def reload(mName):\n",
    "    import importlib\n",
    "    if mName in sys.modules:\n",
    "        del sys.modules[mName]\n",
    "    return importlib.import_module(mName)\n",
    "\n",
    "from sklearn.metrics.pairwise import cosine_similarity, euclidean_distances\n",
    "from sklearn.metrics import mean_squared_error, mean_absolute_error\n",
    "\n",
    "from math import sqrt\n",
    "from sklearn.preprocessing import LabelEncoder, minmax_scale\n",
    "from matplotlib import pyplot as plt\n",
    "plt.style.use('ggplot')\n",
    "\n",
    "utils = reload('utils.utils')\n",
    "np.set_printoptions(precision=4, suppress=True, linewidth=100)"
   ]
  },
  {
   "cell_type": "markdown",
   "metadata": {},
   "source": [
    "<br/>\n",
    "<br/>\n",
    "<br/>\n",
    "## Data Prepare"
   ]
  },
  {
   "cell_type": "code",
   "execution_count": 3,
   "metadata": {},
   "outputs": [
    {
     "name": "stdout",
     "output_type": "stream",
     "text": [
      "(100004, 4)\n"
     ]
    },
    {
     "data": {
      "text/html": [
       "<div>\n",
       "<style scoped>\n",
       "    .dataframe tbody tr th:only-of-type {\n",
       "        vertical-align: middle;\n",
       "    }\n",
       "\n",
       "    .dataframe tbody tr th {\n",
       "        vertical-align: top;\n",
       "    }\n",
       "\n",
       "    .dataframe thead th {\n",
       "        text-align: right;\n",
       "    }\n",
       "</style>\n",
       "<table border=\"1\" class=\"dataframe\">\n",
       "  <thead>\n",
       "    <tr style=\"text-align: right;\">\n",
       "      <th></th>\n",
       "      <th>userId</th>\n",
       "      <th>movieId</th>\n",
       "      <th>rating</th>\n",
       "      <th>timestamp</th>\n",
       "    </tr>\n",
       "  </thead>\n",
       "  <tbody>\n",
       "    <tr>\n",
       "      <th>0</th>\n",
       "      <td>0</td>\n",
       "      <td>30</td>\n",
       "      <td>2.5</td>\n",
       "      <td>1260759144</td>\n",
       "    </tr>\n",
       "    <tr>\n",
       "      <th>1</th>\n",
       "      <td>0</td>\n",
       "      <td>833</td>\n",
       "      <td>3.0</td>\n",
       "      <td>1260759179</td>\n",
       "    </tr>\n",
       "    <tr>\n",
       "      <th>2</th>\n",
       "      <td>0</td>\n",
       "      <td>859</td>\n",
       "      <td>3.0</td>\n",
       "      <td>1260759182</td>\n",
       "    </tr>\n",
       "    <tr>\n",
       "      <th>3</th>\n",
       "      <td>0</td>\n",
       "      <td>906</td>\n",
       "      <td>2.0</td>\n",
       "      <td>1260759185</td>\n",
       "    </tr>\n",
       "    <tr>\n",
       "      <th>4</th>\n",
       "      <td>0</td>\n",
       "      <td>931</td>\n",
       "      <td>4.0</td>\n",
       "      <td>1260759205</td>\n",
       "    </tr>\n",
       "  </tbody>\n",
       "</table>\n",
       "</div>"
      ],
      "text/plain": [
       "   userId  movieId  rating   timestamp\n",
       "0       0       30     2.5  1260759144\n",
       "1       0      833     3.0  1260759179\n",
       "2       0      859     3.0  1260759182\n",
       "3       0      906     2.0  1260759185\n",
       "4       0      931     4.0  1260759205"
      ]
     },
     "execution_count": 3,
     "metadata": {},
     "output_type": "execute_result"
    }
   ],
   "source": [
    "ratings = pd.read_csv(\"./data/ml-latest-small/ratings.csv\")\n",
    "movies = pd.read_csv(\"./data/ml-latest-small/movies.csv\")\n",
    "tags = pd.read_csv(\"./data/ml-latest-small/tags.csv\")\n",
    "\n",
    "uidEnc, midEnc = LabelEncoder(), LabelEncoder()\n",
    "# encode user id and movie id to real value\n",
    "midEnc.fit(movies.movieId)\n",
    "uidEnc.fit(ratings.userId)\n",
    "ratings[\"userId\"] = uidEnc.transform(ratings.userId)\n",
    "ratings[\"movieId\"] = midEnc.transform(ratings.movieId)\n",
    "movies[\"movieId\"] = midEnc.transform(movies.movieId)\n",
    "\n",
    "tags[\"userId\"] = uidEnc.transform(tags.userId)\n",
    "tags[\"movieId\"] = midEnc.transform(tags.movieId)\n",
    "\n",
    "midMap = pd.Series(dict(zip(movies.movieId, movies.title)))\n",
    "\n",
    "nUsers, nMovies = len(uidEnc.classes_), len(midEnc.classes_)\n",
    "print(ratings.shape)\n",
    "ratings.head()"
   ]
  },
  {
   "cell_type": "code",
   "execution_count": 4,
   "metadata": {},
   "outputs": [
    {
     "data": {
      "text/html": [
       "<div>\n",
       "<style scoped>\n",
       "    .dataframe tbody tr th:only-of-type {\n",
       "        vertical-align: middle;\n",
       "    }\n",
       "\n",
       "    .dataframe tbody tr th {\n",
       "        vertical-align: top;\n",
       "    }\n",
       "\n",
       "    .dataframe thead th {\n",
       "        text-align: right;\n",
       "    }\n",
       "</style>\n",
       "<table border=\"1\" class=\"dataframe\">\n",
       "  <thead>\n",
       "    <tr style=\"text-align: right;\">\n",
       "      <th></th>\n",
       "      <th>movieId</th>\n",
       "      <th>title</th>\n",
       "      <th>genres</th>\n",
       "    </tr>\n",
       "  </thead>\n",
       "  <tbody>\n",
       "    <tr>\n",
       "      <th>0</th>\n",
       "      <td>0</td>\n",
       "      <td>Toy Story (1995)</td>\n",
       "      <td>Adventure|Animation|Children|Comedy|Fantasy</td>\n",
       "    </tr>\n",
       "    <tr>\n",
       "      <th>1</th>\n",
       "      <td>1</td>\n",
       "      <td>Jumanji (1995)</td>\n",
       "      <td>Adventure|Children|Fantasy</td>\n",
       "    </tr>\n",
       "    <tr>\n",
       "      <th>2</th>\n",
       "      <td>2</td>\n",
       "      <td>Grumpier Old Men (1995)</td>\n",
       "      <td>Comedy|Romance</td>\n",
       "    </tr>\n",
       "    <tr>\n",
       "      <th>3</th>\n",
       "      <td>3</td>\n",
       "      <td>Waiting to Exhale (1995)</td>\n",
       "      <td>Comedy|Drama|Romance</td>\n",
       "    </tr>\n",
       "    <tr>\n",
       "      <th>4</th>\n",
       "      <td>4</td>\n",
       "      <td>Father of the Bride Part II (1995)</td>\n",
       "      <td>Comedy</td>\n",
       "    </tr>\n",
       "  </tbody>\n",
       "</table>\n",
       "</div>"
      ],
      "text/plain": [
       "   movieId                               title  \\\n",
       "0        0                    Toy Story (1995)   \n",
       "1        1                      Jumanji (1995)   \n",
       "2        2             Grumpier Old Men (1995)   \n",
       "3        3            Waiting to Exhale (1995)   \n",
       "4        4  Father of the Bride Part II (1995)   \n",
       "\n",
       "                                        genres  \n",
       "0  Adventure|Animation|Children|Comedy|Fantasy  \n",
       "1                   Adventure|Children|Fantasy  \n",
       "2                               Comedy|Romance  \n",
       "3                         Comedy|Drama|Romance  \n",
       "4                                       Comedy  "
      ]
     },
     "execution_count": 4,
     "metadata": {},
     "output_type": "execute_result"
    }
   ],
   "source": [
    "# movies profile\n",
    "movies.head()"
   ]
  },
  {
   "cell_type": "code",
   "execution_count": 5,
   "metadata": {},
   "outputs": [
    {
     "data": {
      "text/html": [
       "<div>\n",
       "<style scoped>\n",
       "    .dataframe tbody tr th:only-of-type {\n",
       "        vertical-align: middle;\n",
       "    }\n",
       "\n",
       "    .dataframe tbody tr th {\n",
       "        vertical-align: top;\n",
       "    }\n",
       "\n",
       "    .dataframe thead th {\n",
       "        text-align: right;\n",
       "    }\n",
       "</style>\n",
       "<table border=\"1\" class=\"dataframe\">\n",
       "  <thead>\n",
       "    <tr style=\"text-align: right;\">\n",
       "      <th></th>\n",
       "      <th>userId</th>\n",
       "      <th>movieId</th>\n",
       "      <th>tag</th>\n",
       "      <th>timestamp</th>\n",
       "    </tr>\n",
       "  </thead>\n",
       "  <tbody>\n",
       "    <tr>\n",
       "      <th>0</th>\n",
       "      <td>14</td>\n",
       "      <td>304</td>\n",
       "      <td>sandra 'boring' bullock</td>\n",
       "      <td>1138537770</td>\n",
       "    </tr>\n",
       "    <tr>\n",
       "      <th>1</th>\n",
       "      <td>14</td>\n",
       "      <td>1517</td>\n",
       "      <td>dentist</td>\n",
       "      <td>1193435061</td>\n",
       "    </tr>\n",
       "    <tr>\n",
       "      <th>2</th>\n",
       "      <td>14</td>\n",
       "      <td>5166</td>\n",
       "      <td>Cambodia</td>\n",
       "      <td>1170560997</td>\n",
       "    </tr>\n",
       "    <tr>\n",
       "      <th>3</th>\n",
       "      <td>14</td>\n",
       "      <td>6118</td>\n",
       "      <td>Russian</td>\n",
       "      <td>1170626366</td>\n",
       "    </tr>\n",
       "    <tr>\n",
       "      <th>4</th>\n",
       "      <td>14</td>\n",
       "      <td>6178</td>\n",
       "      <td>forgettable</td>\n",
       "      <td>1141391765</td>\n",
       "    </tr>\n",
       "  </tbody>\n",
       "</table>\n",
       "</div>"
      ],
      "text/plain": [
       "   userId  movieId                      tag   timestamp\n",
       "0      14      304  sandra 'boring' bullock  1138537770\n",
       "1      14     1517                  dentist  1193435061\n",
       "2      14     5166                 Cambodia  1170560997\n",
       "3      14     6118                  Russian  1170626366\n",
       "4      14     6178              forgettable  1141391765"
      ]
     },
     "execution_count": 5,
     "metadata": {},
     "output_type": "execute_result"
    }
   ],
   "source": [
    "# tags profile\n",
    "tags.head()"
   ]
  },
  {
   "cell_type": "markdown",
   "metadata": {},
   "source": [
    "<br/>\n",
    "<br/>\n",
    "<br/>\n",
    "### Split Train and Test Data, Making Rating Matrix"
   ]
  },
  {
   "cell_type": "markdown",
   "metadata": {},
   "source": [
    "+ 已經產生出檔案的不用跑這一段"
   ]
  },
  {
   "cell_type": "code",
   "execution_count": null,
   "metadata": {
    "collapsed": true
   },
   "outputs": [],
   "source": [
    "# # 已經產生出檔案的不用跑這一段\n",
    "# tr, te = utils.split_ratings(ratings, testRatio=0.3)\n",
    "# tr.to_csv(\"./data/ml-latest-small/movielens.tr.csv\", index=False)\n",
    "# te.to_csv(\"./data/ml-latest-small/movielens.te.csv\", index=False)\n",
    "# utils.dumpPickle(\"./data/ml-latest-small/state.h\", \n",
    "#         {\"uidEnc\": uidEnc, \"midEnc\": midEnc, \"midMap\": midMap, \"nUsers\": nUsers, \"nMovies\":nMovies})"
   ]
  },
  {
   "cell_type": "code",
   "execution_count": 6,
   "metadata": {},
   "outputs": [
    {
     "name": "stdout",
     "output_type": "stream",
     "text": [
      "train interaction matrix shape:  (671, 9125) test interaction matrix shape:  (671, 9125)\n",
      "train.shape:  (69399, 4) test.shape:  (30605, 4)\n",
      "\n",
      "   userId  movieId  rating   timestamp\n",
      "0       0      931     4.0  1260759205\n",
      "1       0     1515     4.0  1260759191\n",
      "2       0       30     2.5  1260759144\n",
      "3       0      833     3.0  1260759179\n",
      "4       0      859     3.0  1260759182\n",
      "\n",
      "   userId  movieId  rating   timestamp\n",
      "0       0     1665     4.0  1260759139\n",
      "1       0     1708     3.0  1260759194\n",
      "2       0     1743     2.0  1260759198\n",
      "3       0     1815     2.0  1260759108\n",
      "4       0     1962     2.5  1260759113\n"
     ]
    }
   ],
   "source": [
    "tr = pd.read_csv(\"./data/ml-latest-small/movielens.tr.csv\")\n",
    "te = pd.read_csv(\"./data/ml-latest-small/movielens.te.csv\")\n",
    "\n",
    "# state = utils.loadPickle(\"./data/ml-latest-small/state.h\")\n",
    "# uidEnc, midEnc, midMap, nUsers, nMovies = \\\n",
    "#     (state[\"uidEnc\"], state[\"midEnc\"], state[\"midMap\"], state[\"nUsers\"], state[\"nMovies\"])\n",
    "\n",
    "# train data rating matrix\n",
    "trRatingMat = np.zeros((nUsers, nMovies))\n",
    "# test data rating matrix\n",
    "teRatingMat = np.zeros((nUsers, nMovies))\n",
    "for idx, r in tr.iterrows():\n",
    "    trRatingMat[int(r.userId), int(r.movieId)] = r.rating\n",
    "for idx, r in te.iterrows():\n",
    "    teRatingMat[int(r.userId), int(r.movieId)] = r.rating\n",
    "\n",
    "print(\"train interaction matrix shape: \", trRatingMat.shape, \"test interaction matrix shape: \", teRatingMat.shape)\n",
    "print(\"train.shape: \", tr.shape, \"test.shape: \", te.shape)\n",
    "print()\n",
    "print(tr.head())\n",
    "print()\n",
    "print(te.head())"
   ]
  },
  {
   "cell_type": "markdown",
   "metadata": {},
   "source": [
    "## Observations\n",
    "```\n",
    "1. user數量遠小於item數量, 這是很常見的狀態\n",
    "2. user attributes與item attributes非常少\n",
    "```"
   ]
  },
  {
   "cell_type": "markdown",
   "metadata": {},
   "source": [
    "<br/>\n",
    "<br/>\n",
    "<br/>\n",
    "## Similarity 運作方式"
   ]
  },
  {
   "cell_type": "markdown",
   "metadata": {},
   "source": [
    "![Alt text](./similarity.jpg)"
   ]
  },
  {
   "cell_type": "markdown",
   "metadata": {},
   "source": [
    "#### Cosine 相似度"
   ]
  },
  {
   "cell_type": "code",
   "execution_count": 34,
   "metadata": {},
   "outputs": [
    {
     "name": "stdout",
     "output_type": "stream",
     "text": [
      "[ 66 601 547 658 171]\n"
     ]
    }
   ],
   "source": [
    "uid = 66\n",
    "simMat = cosine_similarity([trRatingMat[uid]], trRatingMat)\n",
    "# 找出Top 5和自己rating狀況最像的人\n",
    "print(simMat.ravel().argsort()[::-1][:5])"
   ]
  },
  {
   "cell_type": "code",
   "execution_count": 42,
   "metadata": {},
   "outputs": [
    {
     "name": "stdout",
     "output_type": "stream",
     "text": [
      "[[0.    ]\n",
      " [0.1038]\n",
      " [1.    ]]\n",
      "[[0.0516]\n",
      " [0.1723]\n",
      " [0.1891]]\n"
     ]
    }
   ],
   "source": [
    "uid = 2\n",
    "simMat = cosine_similarity([trRatingMat[uid]], trRatingMat)\n",
    "print( simMat.ravel()[:, None][:3] )\n",
    "print( simMat.ravel()[:, None][-3:] )\n",
    "# print(simMat.ravel().argsort()[::-1][:5])"
   ]
  },
  {
   "cell_type": "markdown",
   "metadata": {},
   "source": [
    "#### Euclidean 相似度"
   ]
  },
  {
   "cell_type": "code",
   "execution_count": 8,
   "metadata": {},
   "outputs": [
    {
     "data": {
      "text/plain": [
       "array([ 66, 171, 107, 628, 121], dtype=int64)"
      ]
     },
     "execution_count": 8,
     "metadata": {},
     "output_type": "execute_result"
    }
   ],
   "source": [
    "def euclidean_similarity(*args, **kwargs):\n",
    "    r = euclidean_distances(*args, **kwargs)\n",
    "    return 1 - r / np.max(r)\n",
    "\n",
    "uid = 66\n",
    "simMat = euclidean_similarity([trRatingMat[uid]], trRatingMat)\n",
    "# 找出Top 5和自己rating狀況最像的人\n",
    "simMat.ravel().argsort()[::-1][:5]"
   ]
  },
  {
   "cell_type": "markdown",
   "metadata": {},
   "source": [
    "#### 一次算出所有user之間的相似度\n",
    "1. 對稱矩陣\n",
    "2. 對角線(自己和自己的相似度為1)\n",
    "3. 注意user人數過多容易爆記憶體"
   ]
  },
  {
   "cell_type": "code",
   "execution_count": 9,
   "metadata": {},
   "outputs": [
    {
     "name": "stdout",
     "output_type": "stream",
     "text": [
      "shape of user similarity matrix:  (671, 671)\n"
     ]
    },
    {
     "data": {
      "text/plain": [
       "array([[1.    , 0.    , 0.    , ..., 0.0923, 0.    , 0.    ],\n",
       "       [0.    , 1.    , 0.1038, ..., 0.0354, 0.1438, 0.0638],\n",
       "       [0.    , 0.1038, 1.    , ..., 0.0516, 0.1723, 0.1891],\n",
       "       ...,\n",
       "       [0.0923, 0.0354, 0.0516, ..., 1.    , 0.    , 0.0904],\n",
       "       [0.    , 0.1438, 0.1723, ..., 0.    , 1.    , 0.227 ],\n",
       "       [0.    , 0.0638, 0.1891, ..., 0.0904, 0.227 , 1.    ]])"
      ]
     },
     "execution_count": 9,
     "metadata": {},
     "output_type": "execute_result"
    }
   ],
   "source": [
    "simMat = cosine_similarity(trRatingMat)\n",
    "print(\"shape of user similarity matrix: \", simMat.shape)\n",
    "simMat"
   ]
  },
  {
   "cell_type": "markdown",
   "metadata": {},
   "source": [
    "<br/>\n",
    "<br/>\n",
    "<br/>\n",
    "## Memory Based Collaborative Filter 物件\n",
    "Functions\n",
    "1. fit: training, 這裡只是簡單set rating matrix\n",
    "2. predict: 產出指定user對於所有items的評分\n",
    "3. evaluateRMSE: 計算平方誤差\n",
    "4. evaluateMAE: 計算絕對值誤差\n",
    "(evaluateRMSE, evaluateMAE選用其一即可)"
   ]
  },
  {
   "cell_type": "code",
   "execution_count": 20,
   "metadata": {},
   "outputs": [],
   "source": [
    "class MemoryBaseCF(object):\n",
    "    \"\"\"使用Collaborative Filtering演算法\"\"\"\n",
    "    def __init__(self):\n",
    "        self.ratings = None\n",
    "        \n",
    "    def fit(self, ratings):\n",
    "        \"\"\"紀錄ratings (interaction matrix between users and items)\"\"\"\n",
    "        self.ratings = ratings\n",
    "        return self\n",
    "    \n",
    "    def predict(self, users:list, simFn=cosine_similarity, tpe=\"user\"):\n",
    "        \"\"\"定義以下變數\n",
    "        user_sim = similarity with other users\n",
    "        item_sim = similarity with other items\n",
    "        ratings = all user ratings on this items\n",
    "        \n",
    "        分別是user base CF與item base CF的算法\n",
    "        user base CF: item score = user_sim dot ratings / sum of user_sim\n",
    "        item base CF: item score = ratings dot item_sim / sum of item_sim\n",
    "        \"\"\"\n",
    "        return predict(self, users, simFn=cosine_similarity, tpe=tpe)\n",
    "    \n",
    "    def evaluateRMSE(self, inputs, tpe=\"user\", nBatch=500):\n",
    "        \"\"\"計算root mean square error, 不包含interaction matrix = 0的部分\"\"\"\n",
    "        return evaluateRMSE(self, inputs, tpe, nBatch)\n",
    "    \n",
    "    def evaluateMAE(self, inputs, tpe=\"user\", nBatch=500):\n",
    "        \"\"\"計算 mean absolutely error, 不包含interaction matrix = 0的部分\"\"\"\n",
    "        return evaluateMAE(self, inputs, tpe, nBatch)"
   ]
  },
  {
   "cell_type": "markdown",
   "metadata": {},
   "source": [
    "<br/>\n",
    "<br/>\n",
    "<br/>\n",
    "## Prediction: 計算加權平均數\n",
    "$$ r_{ij} = \\frac{\\sum_i(w_i \\cdot r_{ij})}{\\sum_iw_i} $$\n",
    "![Alt text](./weighted_avg.jpg)"
   ]
  },
  {
   "cell_type": "code",
   "execution_count": 21,
   "metadata": {},
   "outputs": [],
   "source": [
    "def predict(self, users:list, simFn=cosine_similarity, tpe=\"user\"):\n",
    "    \"\"\"定義以下變數\n",
    "    user_sim = similarity with other users\n",
    "    item_sim = similarity with other items\n",
    "    ratings = all user ratings on this items\n",
    "\n",
    "    分別是user base CF與item base CF的算法\n",
    "    user base CF: item score = user_sim dot ratings / sum of user_sim\n",
    "    item base CF: item score = ratings dot item_sim / sum of item_sim\n",
    "    \"\"\"\n",
    "    if tpe == \"user\":\n",
    "        # shape of inputUserRate is len(users) * nItems\n",
    "        inputUserRate = self.ratings[users]\n",
    "        # shape of sim is [len(users) * nUsers]\n",
    "        sim = simFn(inputUserRate, self.ratings)\n",
    "        # shape of dot is [len(users) * nItems]\n",
    "        dot = sim.dot(self.ratings)\n",
    "        # dot = sim.dot(self.ratingsDiff)\n",
    "\n",
    "        # mask 對於此item沒有rating的項目\n",
    "        # shape of simSum is [len(users) * nItems]\n",
    "        simSum = sim.dot(self.ratings != 0) # simSum = sim.dot(np.ones_like(self.ratings))\n",
    "\n",
    "        ret = np.zeros_like(dot)\n",
    "        # item rating = ((user similarity) dot product (all user rating to this item)) / masked sum of user similarity\n",
    "        for user in np.arange(dot.shape[0]):\n",
    "            for item in np.arange(dot.shape[1]):\n",
    "                # maskedSimSum = np.sum(singleUserSim * (self.ratings[:, item] != 0))\n",
    "                ret[user, item] = (dot[user, item] / simSum[user, item]) if simSum[user, item] != 0 else 0\n",
    "        return np.clip(ret, 1, 5)\n",
    "        # return np.clip(self.meanRating[users] + ret, 0, 5)\n",
    "    elif tpe == \"item\":\n",
    "        # shape of inputUserRate is len(users) * nItems\n",
    "        inputUserRate = self.ratings[users]\n",
    "        # shape of sim is [nItems * nItems]\n",
    "        sim = simFn(self.ratings.T)\n",
    "        # shape of dot is [len(users) * nItems]\n",
    "        dot = inputUserRate.dot(sim)\n",
    "        # mask 對於此item沒有rating的項目\n",
    "        # shape of simSum is [nUsers * nItems]\n",
    "        simSum = (self.ratings != 0).dot(sim)\n",
    "        ret = np.zeros_like(dot)\n",
    "        # item rating = ((single user rating to this item) dot product (item similarity)) / masked sum of item similarity\n",
    "        for user in np.arange(dot.shape[0]):\n",
    "            for item in np.arange(dot.shape[1]):\n",
    "                # simSum = denom[item]\n",
    "                ret[user, item] = (dot[user, item] / simSum[user, item]) if simSum[user, item] != 0 else 0\n",
    "        return np.clip(ret, 1, 5)"
   ]
  },
  {
   "cell_type": "code",
   "execution_count": 22,
   "metadata": {},
   "outputs": [],
   "source": [
    "def rmse(prediction, ground_truth):\n",
    "    \"\"\"計算squared error的時候會mask掉ground_truth為0的部分\"\"\"\n",
    "    prediction = prediction[ground_truth.nonzero()].flatten()\n",
    "    ground_truth = ground_truth[ground_truth.nonzero()].flatten()\n",
    "    return math.sqrt(mean_squared_error(prediction, ground_truth))\n",
    "\n",
    "def mae(prediction, ground_truth):\n",
    "    \"\"\"計算absolute error的時候會mask掉ground_truth為0的部分\"\"\"\n",
    "    prediction = prediction[ground_truth.nonzero()].flatten()\n",
    "    ground_truth = ground_truth[ground_truth.nonzero()].flatten()\n",
    "    return mean_absolute_error(prediction, ground_truth)\n",
    "\n",
    "def evaluateRMSE(self, inputs, tpe=\"user\", nBatch=500):\n",
    "    \"\"\"計算root mean square error, 不包含interaction matrix = 0的部分\"\"\"\n",
    "    loss = 0\n",
    "    users = np.arange(self.ratings.shape[0])\n",
    "    for startPos in range(0, self.ratings.shape[0], nBatch):\n",
    "        batchUsers = users[startPos : startPos + nBatch]\n",
    "        bRatings = self.predict(batchUsers, tpe=tpe)\n",
    "        loss += rmse(bRatings, inputs[startPos : startPos + nBatch]) ** 2 * len(batchUsers)\n",
    "    return math.sqrt(loss / len(users))\n",
    "\n",
    "def evaluateMAE(self, inputs, tpe=\"user\", nBatch=500):\n",
    "    \"\"\"計算 mean absolutely error, 不包含interaction matrix = 0的部分\"\"\"\n",
    "    loss = 0\n",
    "    users = np.arange(self.ratings.shape[0])\n",
    "    for startPos in range(0, self.ratings.shape[0], nBatch):\n",
    "        batchUsers = users[startPos : startPos + nBatch]\n",
    "        bRatings = self.predict(batchUsers, tpe=tpe)\n",
    "        loss += mae(bRatings, inputs[startPos : startPos + nBatch]) * len(batchUsers)\n",
    "    return loss / len(users)"
   ]
  },
  {
   "cell_type": "markdown",
   "metadata": {},
   "source": [
    "## Training"
   ]
  },
  {
   "cell_type": "code",
   "execution_count": 23,
   "metadata": {},
   "outputs": [
    {
     "data": {
      "text/plain": [
       "<__main__.MemoryBaseCF at 0x28d3b938b00>"
      ]
     },
     "execution_count": 23,
     "metadata": {},
     "output_type": "execute_result"
    }
   ],
   "source": [
    "# fitting model\n",
    "model = MemoryBaseCF()\n",
    "model.fit(trRatingMat)"
   ]
  },
  {
   "cell_type": "markdown",
   "metadata": {},
   "source": [
    "## Predict (回傳單一User對所有Items的分數)"
   ]
  },
  {
   "cell_type": "code",
   "execution_count": 24,
   "metadata": {},
   "outputs": [
    {
     "data": {
      "text/plain": [
       "array([[3.8833, 3.4444, 3.1242, ..., 1.    , 1.    , 1.    ]])"
      ]
     },
     "execution_count": 24,
     "metadata": {},
     "output_type": "execute_result"
    }
   ],
   "source": [
    "model.predict([66]) # array([[ 3.8833,  3.4444,  3.1242, ...,  1.    ,  1.    ,  1.    ]])"
   ]
  },
  {
   "cell_type": "markdown",
   "metadata": {},
   "source": [
    "<br/>\n",
    "<br/>\n",
    "<br/>\n",
    "## evaluate model "
   ]
  },
  {
   "cell_type": "code",
   "execution_count": 25,
   "metadata": {},
   "outputs": [
    {
     "name": "stdout",
     "output_type": "stream",
     "text": [
      "user base Collaborative Filtering MAE loss:  1.1156171786971176\n",
      "user base Collaborative Filtering RMSE loss:  1.4730915195266507\n",
      "Wall time: 11.7 s\n"
     ]
    }
   ],
   "source": [
    "%%time\n",
    "print(\"user base Collaborative Filtering MAE loss: \", model.evaluateMAE(teRatingMat, tpe=\"user\"))\n",
    "print(\"user base Collaborative Filtering RMSE loss: \", model.evaluateRMSE(teRatingMat, tpe=\"user\"))"
   ]
  },
  {
   "cell_type": "code",
   "execution_count": 26,
   "metadata": {},
   "outputs": [
    {
     "name": "stdout",
     "output_type": "stream",
     "text": [
      "item base Collaborative Filtering MAE loss:  1.1693025708268519\n",
      "item base Collaborative Filtering RMSE loss:  1.554707314100659\n",
      "Wall time: 20.9 s\n"
     ]
    }
   ],
   "source": [
    "%%time\n",
    "print(\"item base Collaborative Filtering MAE loss: \", model.evaluateMAE(teRatingMat, tpe=\"item\"))\n",
    "print(\"item base Collaborative Filtering RMSE loss: \", model.evaluateRMSE(teRatingMat, tpe=\"item\"))"
   ]
  },
  {
   "cell_type": "markdown",
   "metadata": {},
   "source": [
    "<br/>\n",
    "<br/>\n",
    "<br/>\n",
    "### 發現以Item Base去推薦分數不太好, check the sparsity of user and item ratings of train data"
   ]
  },
  {
   "cell_type": "code",
   "execution_count": 27,
   "metadata": {},
   "outputs": [
    {
     "name": "stdout",
     "output_type": "stream",
     "text": [
      "0 users didn't rate any movie!\n",
      "3164 movies are not rated!\n"
     ]
    }
   ],
   "source": [
    "print( \"{} users didn't rate any movie!\".format((trRatingMat.sum(axis=1) == 0).sum()) )\n",
    "print( \"{} movies are not rated!\".format((trRatingMat.sum(axis=0) == 0).sum()) )"
   ]
  },
  {
   "cell_type": "markdown",
   "metadata": {},
   "source": [
    "<br/>\n",
    "<br/>\n",
    "<br/>\n",
    "### Model Evaluation"
   ]
  },
  {
   "cell_type": "markdown",
   "metadata": {},
   "source": [
    "### 單一user rating分布圖"
   ]
  },
  {
   "cell_type": "code",
   "execution_count": 28,
   "metadata": {},
   "outputs": [
    {
     "name": "stdout",
     "output_type": "stream",
     "text": [
      "shape:  (9125,) [3.8319 3.2478 2.7913 ... 1.     1.     1.    ]\n"
     ]
    },
    {
     "data": {
      "image/png": "[encoded data removed]",
      "text/plain": [
       "<Figure size 720x360 with 2 Axes>"
      ]
     },
     "metadata": {},
     "output_type": "display_data"
    }
   ],
   "source": [
    "# valid user id from 0 ~ 670\n",
    "uid = 22\n",
    "pred = model.predict([uid]).ravel()\n",
    "print(\"shape: \", pred.shape, pred)\n",
    "\n",
    "nnzCoord = teRatingMat[uid].nonzero()\n",
    "f, ax = plt.subplots(1, 2, figsize=(10, 5))\n",
    "ax[0].set_title(\"pred distribute\")\n",
    "pd.Series(pred.ravel()[nnzCoord]).hist(bins=30, ax=ax[0])\n",
    "ax[1].set_title(\"real distribute\")\n",
    "pd.Series(map(lambda e: e, teRatingMat[uid][nnzCoord])).hist(bins=30, ax=ax[1])\n",
    "plt.show()"
   ]
  },
  {
   "cell_type": "markdown",
   "metadata": {},
   "source": [
    "<br/>\n",
    "<br/>\n",
    "<br/>\n",
    "## Evaluate Model"
   ]
  },
  {
   "cell_type": "markdown",
   "metadata": {},
   "source": [
    "#### User導向評估(Recall)"
   ]
  },
  {
   "cell_type": "code",
   "execution_count": 45,
   "metadata": {
    "scrolled": true
   },
   "outputs": [
    {
     "data": {
      "text/html": [
       "<div>\n",
       "<style scoped>\n",
       "    .dataframe tbody tr th:only-of-type {\n",
       "        vertical-align: middle;\n",
       "    }\n",
       "\n",
       "    .dataframe tbody tr th {\n",
       "        vertical-align: top;\n",
       "    }\n",
       "\n",
       "    .dataframe thead th {\n",
       "        text-align: right;\n",
       "    }\n",
       "</style>\n",
       "<table border=\"1\" class=\"dataframe\">\n",
       "  <thead>\n",
       "    <tr style=\"text-align: right;\">\n",
       "      <th></th>\n",
       "      <th>userId</th>\n",
       "      <th>movieId</th>\n",
       "      <th>title</th>\n",
       "      <th>rating</th>\n",
       "      <th>predRating</th>\n",
       "    </tr>\n",
       "  </thead>\n",
       "  <tbody>\n",
       "    <tr>\n",
       "      <th>4417</th>\n",
       "      <td>22</td>\n",
       "      <td>4417</td>\n",
       "      <td>Catch Me If You Can (2002)</td>\n",
       "      <td>5.0</td>\n",
       "      <td>3.770959</td>\n",
       "    </tr>\n",
       "    <tr>\n",
       "      <th>5623</th>\n",
       "      <td>22</td>\n",
       "      <td>5623</td>\n",
       "      <td>Undertow (2004)</td>\n",
       "      <td>5.0</td>\n",
       "      <td>1.000000</td>\n",
       "    </tr>\n",
       "    <tr>\n",
       "      <th>4419</th>\n",
       "      <td>22</td>\n",
       "      <td>4419</td>\n",
       "      <td>Hours, The (2002)</td>\n",
       "      <td>5.0</td>\n",
       "      <td>3.367638</td>\n",
       "    </tr>\n",
       "    <tr>\n",
       "      <th>4432</th>\n",
       "      <td>22</td>\n",
       "      <td>4432</td>\n",
       "      <td>City of God (Cidade de Deus) (2002)</td>\n",
       "      <td>5.0</td>\n",
       "      <td>4.162015</td>\n",
       "    </tr>\n",
       "    <tr>\n",
       "      <th>4371</th>\n",
       "      <td>22</td>\n",
       "      <td>4371</td>\n",
       "      <td>Adaptation (2002)</td>\n",
       "      <td>5.0</td>\n",
       "      <td>4.156001</td>\n",
       "    </tr>\n",
       "    <tr>\n",
       "      <th>4008</th>\n",
       "      <td>22</td>\n",
       "      <td>4008</td>\n",
       "      <td>And Your Mother Too (Y tu mamá también) (2001)</td>\n",
       "      <td>5.0</td>\n",
       "      <td>3.519416</td>\n",
       "    </tr>\n",
       "    <tr>\n",
       "      <th>6132</th>\n",
       "      <td>22</td>\n",
       "      <td>6132</td>\n",
       "      <td>Crash (2004)</td>\n",
       "      <td>5.0</td>\n",
       "      <td>3.689451</td>\n",
       "    </tr>\n",
       "    <tr>\n",
       "      <th>5016</th>\n",
       "      <td>22</td>\n",
       "      <td>5016</td>\n",
       "      <td>Stolen Kisses (Baisers volés) (1968)</td>\n",
       "      <td>5.0</td>\n",
       "      <td>4.000000</td>\n",
       "    </tr>\n",
       "    <tr>\n",
       "      <th>5761</th>\n",
       "      <td>22</td>\n",
       "      <td>5761</td>\n",
       "      <td>Duel (1971)</td>\n",
       "      <td>5.0</td>\n",
       "      <td>4.000000</td>\n",
       "    </tr>\n",
       "    <tr>\n",
       "      <th>4875</th>\n",
       "      <td>22</td>\n",
       "      <td>4875</td>\n",
       "      <td>Unvanquished, The (Aparajito) (1957)</td>\n",
       "      <td>5.0</td>\n",
       "      <td>1.000000</td>\n",
       "    </tr>\n",
       "    <tr>\n",
       "      <th>4855</th>\n",
       "      <td>22</td>\n",
       "      <td>4855</td>\n",
       "      <td>Kill Bill: Vol. 1 (2003)</td>\n",
       "      <td>5.0</td>\n",
       "      <td>3.675404</td>\n",
       "    </tr>\n",
       "    <tr>\n",
       "      <th>4974</th>\n",
       "      <td>22</td>\n",
       "      <td>4974</td>\n",
       "      <td>Stagecoach (1939)</td>\n",
       "      <td>4.5</td>\n",
       "      <td>4.000000</td>\n",
       "    </tr>\n",
       "    <tr>\n",
       "      <th>4972</th>\n",
       "      <td>22</td>\n",
       "      <td>4972</td>\n",
       "      <td>Red River (1948)</td>\n",
       "      <td>4.5</td>\n",
       "      <td>1.000000</td>\n",
       "    </tr>\n",
       "    <tr>\n",
       "      <th>4966</th>\n",
       "      <td>22</td>\n",
       "      <td>4966</td>\n",
       "      <td>Aguirre: The Wrath of God (Aguirre, der Zorn G...</td>\n",
       "      <td>4.5</td>\n",
       "      <td>4.223189</td>\n",
       "    </tr>\n",
       "    <tr>\n",
       "      <th>4903</th>\n",
       "      <td>22</td>\n",
       "      <td>4903</td>\n",
       "      <td>Funny Games (1997)</td>\n",
       "      <td>4.5</td>\n",
       "      <td>3.841549</td>\n",
       "    </tr>\n",
       "    <tr>\n",
       "      <th>4724</th>\n",
       "      <td>22</td>\n",
       "      <td>4724</td>\n",
       "      <td>Umberto D. (1952)</td>\n",
       "      <td>4.5</td>\n",
       "      <td>1.000000</td>\n",
       "    </tr>\n",
       "    <tr>\n",
       "      <th>4860</th>\n",
       "      <td>22</td>\n",
       "      <td>4860</td>\n",
       "      <td>Pieces of April (2003)</td>\n",
       "      <td>4.5</td>\n",
       "      <td>3.504001</td>\n",
       "    </tr>\n",
       "    <tr>\n",
       "      <th>4739</th>\n",
       "      <td>22</td>\n",
       "      <td>4739</td>\n",
       "      <td>Tokyo Story (Tôkyô monogatari) (1953)</td>\n",
       "      <td>4.5</td>\n",
       "      <td>4.000000</td>\n",
       "    </tr>\n",
       "    <tr>\n",
       "      <th>4693</th>\n",
       "      <td>22</td>\n",
       "      <td>4693</td>\n",
       "      <td>Pirates of the Caribbean: The Curse of the Bla...</td>\n",
       "      <td>4.5</td>\n",
       "      <td>3.699158</td>\n",
       "    </tr>\n",
       "    <tr>\n",
       "      <th>4603</th>\n",
       "      <td>22</td>\n",
       "      <td>4603</td>\n",
       "      <td>Matrix Reloaded, The (2003)</td>\n",
       "      <td>4.5</td>\n",
       "      <td>2.899655</td>\n",
       "    </tr>\n",
       "    <tr>\n",
       "      <th>4424</th>\n",
       "      <td>22</td>\n",
       "      <td>4424</td>\n",
       "      <td>King of Comedy, The (1983)</td>\n",
       "      <td>4.5</td>\n",
       "      <td>4.085839</td>\n",
       "    </tr>\n",
       "    <tr>\n",
       "      <th>4422</th>\n",
       "      <td>22</td>\n",
       "      <td>4422</td>\n",
       "      <td>Pianist, The (2002)</td>\n",
       "      <td>4.5</td>\n",
       "      <td>4.071338</td>\n",
       "    </tr>\n",
       "    <tr>\n",
       "      <th>3886</th>\n",
       "      <td>22</td>\n",
       "      <td>3886</td>\n",
       "      <td>Gosford Park (2001)</td>\n",
       "      <td>4.5</td>\n",
       "      <td>3.282681</td>\n",
       "    </tr>\n",
       "    <tr>\n",
       "      <th>3873</th>\n",
       "      <td>22</td>\n",
       "      <td>3873</td>\n",
       "      <td>Beautiful Mind, A (2001)</td>\n",
       "      <td>4.5</td>\n",
       "      <td>3.831154</td>\n",
       "    </tr>\n",
       "    <tr>\n",
       "      <th>5026</th>\n",
       "      <td>22</td>\n",
       "      <td>5026</td>\n",
       "      <td>Lord of the Rings: The Return of the King, The...</td>\n",
       "      <td>4.5</td>\n",
       "      <td>3.937102</td>\n",
       "    </tr>\n",
       "    <tr>\n",
       "      <th>4411</th>\n",
       "      <td>22</td>\n",
       "      <td>4411</td>\n",
       "      <td>My Neighbor Totoro (Tonari no Totoro) (1988)</td>\n",
       "      <td>4.5</td>\n",
       "      <td>4.146550</td>\n",
       "    </tr>\n",
       "    <tr>\n",
       "      <th>6383</th>\n",
       "      <td>22</td>\n",
       "      <td>6383</td>\n",
       "      <td>V for Vendetta (2006)</td>\n",
       "      <td>4.5</td>\n",
       "      <td>3.923828</td>\n",
       "    </tr>\n",
       "    <tr>\n",
       "      <th>6304</th>\n",
       "      <td>22</td>\n",
       "      <td>6304</td>\n",
       "      <td>Match Point (2005)</td>\n",
       "      <td>4.5</td>\n",
       "      <td>4.099785</td>\n",
       "    </tr>\n",
       "    <tr>\n",
       "      <th>6260</th>\n",
       "      <td>22</td>\n",
       "      <td>6260</td>\n",
       "      <td>Good Night, and Good Luck. (2005)</td>\n",
       "      <td>4.5</td>\n",
       "      <td>4.293930</td>\n",
       "    </tr>\n",
       "    <tr>\n",
       "      <th>6257</th>\n",
       "      <td>22</td>\n",
       "      <td>6257</td>\n",
       "      <td>Brokeback Mountain (2005)</td>\n",
       "      <td>4.5</td>\n",
       "      <td>3.402171</td>\n",
       "    </tr>\n",
       "    <tr>\n",
       "      <th>6221</th>\n",
       "      <td>22</td>\n",
       "      <td>6221</td>\n",
       "      <td>Everything Is Illuminated (2005)</td>\n",
       "      <td>4.5</td>\n",
       "      <td>2.876879</td>\n",
       "    </tr>\n",
       "    <tr>\n",
       "      <th>5987</th>\n",
       "      <td>22</td>\n",
       "      <td>5987</td>\n",
       "      <td>Hotel Rwanda (2004)</td>\n",
       "      <td>4.5</td>\n",
       "      <td>3.987494</td>\n",
       "    </tr>\n",
       "    <tr>\n",
       "      <th>5953</th>\n",
       "      <td>22</td>\n",
       "      <td>5953</td>\n",
       "      <td>Sea Inside, The (Mar adentro) (2004)</td>\n",
       "      <td>4.5</td>\n",
       "      <td>4.000000</td>\n",
       "    </tr>\n",
       "    <tr>\n",
       "      <th>5850</th>\n",
       "      <td>22</td>\n",
       "      <td>5850</td>\n",
       "      <td>Hearts of Darkness: A Filmmakers Apocalypse (1...</td>\n",
       "      <td>4.5</td>\n",
       "      <td>4.187395</td>\n",
       "    </tr>\n",
       "    <tr>\n",
       "      <th>5665</th>\n",
       "      <td>22</td>\n",
       "      <td>5665</td>\n",
       "      <td>Steamboat Bill, Jr. (1928)</td>\n",
       "      <td>4.5</td>\n",
       "      <td>4.000000</td>\n",
       "    </tr>\n",
       "    <tr>\n",
       "      <th>5633</th>\n",
       "      <td>22</td>\n",
       "      <td>5633</td>\n",
       "      <td>Finding Neverland (2004)</td>\n",
       "      <td>4.5</td>\n",
       "      <td>3.621317</td>\n",
       "    </tr>\n",
       "    <tr>\n",
       "      <th>5625</th>\n",
       "      <td>22</td>\n",
       "      <td>5625</td>\n",
       "      <td>Ray (2004)</td>\n",
       "      <td>4.5</td>\n",
       "      <td>3.914375</td>\n",
       "    </tr>\n",
       "    <tr>\n",
       "      <th>5583</th>\n",
       "      <td>22</td>\n",
       "      <td>5583</td>\n",
       "      <td>Motorcycle Diaries, The (Diarios de motociclet...</td>\n",
       "      <td>4.5</td>\n",
       "      <td>3.591149</td>\n",
       "    </tr>\n",
       "    <tr>\n",
       "      <th>5405</th>\n",
       "      <td>22</td>\n",
       "      <td>5405</td>\n",
       "      <td>Napoleon Dynamite (2004)</td>\n",
       "      <td>4.5</td>\n",
       "      <td>3.325688</td>\n",
       "    </tr>\n",
       "    <tr>\n",
       "      <th>5323</th>\n",
       "      <td>22</td>\n",
       "      <td>5323</td>\n",
       "      <td>Mean Streets (1973)</td>\n",
       "      <td>4.5</td>\n",
       "      <td>4.220468</td>\n",
       "    </tr>\n",
       "    <tr>\n",
       "      <th>5132</th>\n",
       "      <td>22</td>\n",
       "      <td>5132</td>\n",
       "      <td>Dogville (2003)</td>\n",
       "      <td>4.5</td>\n",
       "      <td>3.270972</td>\n",
       "    </tr>\n",
       "    <tr>\n",
       "      <th>5127</th>\n",
       "      <td>22</td>\n",
       "      <td>5127</td>\n",
       "      <td>Eternal Sunshine of the Spotless Mind (2004)</td>\n",
       "      <td>4.5</td>\n",
       "      <td>4.238095</td>\n",
       "    </tr>\n",
       "    <tr>\n",
       "      <th>4991</th>\n",
       "      <td>22</td>\n",
       "      <td>4991</td>\n",
       "      <td>Hero (Ying xiong) (2002)</td>\n",
       "      <td>4.5</td>\n",
       "      <td>4.038113</td>\n",
       "    </tr>\n",
       "    <tr>\n",
       "      <th>4241</th>\n",
       "      <td>22</td>\n",
       "      <td>4241</td>\n",
       "      <td>Heaven (2002)</td>\n",
       "      <td>4.5</td>\n",
       "      <td>4.500000</td>\n",
       "    </tr>\n",
       "    <tr>\n",
       "      <th>3987</th>\n",
       "      <td>22</td>\n",
       "      <td>3987</td>\n",
       "      <td>Magnificent Ambersons, The (1942)</td>\n",
       "      <td>4.5</td>\n",
       "      <td>3.886422</td>\n",
       "    </tr>\n",
       "    <tr>\n",
       "      <th>4262</th>\n",
       "      <td>22</td>\n",
       "      <td>4262</td>\n",
       "      <td>Punch-Drunk Love (2002)</td>\n",
       "      <td>4.5</td>\n",
       "      <td>3.366060</td>\n",
       "    </tr>\n",
       "    <tr>\n",
       "      <th>4879</th>\n",
       "      <td>22</td>\n",
       "      <td>4879</td>\n",
       "      <td>Shattered Glass (2003)</td>\n",
       "      <td>4.0</td>\n",
       "      <td>3.449657</td>\n",
       "    </tr>\n",
       "    <tr>\n",
       "      <th>4934</th>\n",
       "      <td>22</td>\n",
       "      <td>4934</td>\n",
       "      <td>Night of the Hunter, The (1955)</td>\n",
       "      <td>4.0</td>\n",
       "      <td>4.411722</td>\n",
       "    </tr>\n",
       "    <tr>\n",
       "      <th>4098</th>\n",
       "      <td>22</td>\n",
       "      <td>4098</td>\n",
       "      <td>My Beautiful Laundrette (1985)</td>\n",
       "      <td>4.0</td>\n",
       "      <td>4.269830</td>\n",
       "    </tr>\n",
       "    <tr>\n",
       "      <th>4912</th>\n",
       "      <td>22</td>\n",
       "      <td>4912</td>\n",
       "      <td>Cabinet of Dr. Caligari, The (Cabinet des Dr. ...</td>\n",
       "      <td>4.0</td>\n",
       "      <td>4.081596</td>\n",
       "    </tr>\n",
       "  </tbody>\n",
       "</table>\n",
       "</div>"
      ],
      "text/plain": [
       "      userId  movieId                                              title  \\\n",
       "4417      22     4417                         Catch Me If You Can (2002)   \n",
       "5623      22     5623                                    Undertow (2004)   \n",
       "4419      22     4419                                  Hours, The (2002)   \n",
       "4432      22     4432                City of God (Cidade de Deus) (2002)   \n",
       "4371      22     4371                                  Adaptation (2002)   \n",
       "4008      22     4008     And Your Mother Too (Y tu mamá también) (2001)   \n",
       "6132      22     6132                                       Crash (2004)   \n",
       "5016      22     5016               Stolen Kisses (Baisers volés) (1968)   \n",
       "5761      22     5761                                        Duel (1971)   \n",
       "4875      22     4875               Unvanquished, The (Aparajito) (1957)   \n",
       "4855      22     4855                           Kill Bill: Vol. 1 (2003)   \n",
       "4974      22     4974                                  Stagecoach (1939)   \n",
       "4972      22     4972                                   Red River (1948)   \n",
       "4966      22     4966  Aguirre: The Wrath of God (Aguirre, der Zorn G...   \n",
       "4903      22     4903                                 Funny Games (1997)   \n",
       "4724      22     4724                                  Umberto D. (1952)   \n",
       "4860      22     4860                             Pieces of April (2003)   \n",
       "4739      22     4739              Tokyo Story (Tôkyô monogatari) (1953)   \n",
       "4693      22     4693  Pirates of the Caribbean: The Curse of the Bla...   \n",
       "4603      22     4603                        Matrix Reloaded, The (2003)   \n",
       "4424      22     4424                         King of Comedy, The (1983)   \n",
       "4422      22     4422                                Pianist, The (2002)   \n",
       "3886      22     3886                                Gosford Park (2001)   \n",
       "3873      22     3873                           Beautiful Mind, A (2001)   \n",
       "5026      22     5026  Lord of the Rings: The Return of the King, The...   \n",
       "4411      22     4411       My Neighbor Totoro (Tonari no Totoro) (1988)   \n",
       "6383      22     6383                              V for Vendetta (2006)   \n",
       "6304      22     6304                                 Match Point (2005)   \n",
       "6260      22     6260                  Good Night, and Good Luck. (2005)   \n",
       "6257      22     6257                          Brokeback Mountain (2005)   \n",
       "6221      22     6221                   Everything Is Illuminated (2005)   \n",
       "5987      22     5987                                Hotel Rwanda (2004)   \n",
       "5953      22     5953               Sea Inside, The (Mar adentro) (2004)   \n",
       "5850      22     5850  Hearts of Darkness: A Filmmakers Apocalypse (1...   \n",
       "5665      22     5665                         Steamboat Bill, Jr. (1928)   \n",
       "5633      22     5633                           Finding Neverland (2004)   \n",
       "5625      22     5625                                         Ray (2004)   \n",
       "5583      22     5583  Motorcycle Diaries, The (Diarios de motociclet...   \n",
       "5405      22     5405                           Napoleon Dynamite (2004)   \n",
       "5323      22     5323                                Mean Streets (1973)   \n",
       "5132      22     5132                                    Dogville (2003)   \n",
       "5127      22     5127       Eternal Sunshine of the Spotless Mind (2004)   \n",
       "4991      22     4991                           Hero (Ying xiong) (2002)   \n",
       "4241      22     4241                                      Heaven (2002)   \n",
       "3987      22     3987                  Magnificent Ambersons, The (1942)   \n",
       "4262      22     4262                            Punch-Drunk Love (2002)   \n",
       "4879      22     4879                             Shattered Glass (2003)   \n",
       "4934      22     4934                    Night of the Hunter, The (1955)   \n",
       "4098      22     4098                     My Beautiful Laundrette (1985)   \n",
       "4912      22     4912  Cabinet of Dr. Caligari, The (Cabinet des Dr. ...   \n",
       "\n",
       "      rating  predRating  \n",
       "4417     5.0    3.770959  \n",
       "5623     5.0    1.000000  \n",
       "4419     5.0    3.367638  \n",
       "4432     5.0    4.162015  \n",
       "4371     5.0    4.156001  \n",
       "4008     5.0    3.519416  \n",
       "6132     5.0    3.689451  \n",
       "5016     5.0    4.000000  \n",
       "5761     5.0    4.000000  \n",
       "4875     5.0    1.000000  \n",
       "4855     5.0    3.675404  \n",
       "4974     4.5    4.000000  \n",
       "4972     4.5    1.000000  \n",
       "4966     4.5    4.223189  \n",
       "4903     4.5    3.841549  \n",
       "4724     4.5    1.000000  \n",
       "4860     4.5    3.504001  \n",
       "4739     4.5    4.000000  \n",
       "4693     4.5    3.699158  \n",
       "4603     4.5    2.899655  \n",
       "4424     4.5    4.085839  \n",
       "4422     4.5    4.071338  \n",
       "3886     4.5    3.282681  \n",
       "3873     4.5    3.831154  \n",
       "5026     4.5    3.937102  \n",
       "4411     4.5    4.146550  \n",
       "6383     4.5    3.923828  \n",
       "6304     4.5    4.099785  \n",
       "6260     4.5    4.293930  \n",
       "6257     4.5    3.402171  \n",
       "6221     4.5    2.876879  \n",
       "5987     4.5    3.987494  \n",
       "5953     4.5    4.000000  \n",
       "5850     4.5    4.187395  \n",
       "5665     4.5    4.000000  \n",
       "5633     4.5    3.621317  \n",
       "5625     4.5    3.914375  \n",
       "5583     4.5    3.591149  \n",
       "5405     4.5    3.325688  \n",
       "5323     4.5    4.220468  \n",
       "5132     4.5    3.270972  \n",
       "5127     4.5    4.238095  \n",
       "4991     4.5    4.038113  \n",
       "4241     4.5    4.500000  \n",
       "3987     4.5    3.886422  \n",
       "4262     4.5    3.366060  \n",
       "4879     4.0    3.449657  \n",
       "4934     4.0    4.411722  \n",
       "4098     4.0    4.269830  \n",
       "4912     4.0    4.081596  "
      ]
     },
     "execution_count": 45,
     "metadata": {},
     "output_type": "execute_result"
    }
   ],
   "source": [
    "# 可給定user id細看每個user的rating與model預測效果\n",
    "# valid user id from 0 ~ 670\n",
    "uid = 22\n",
    "recomm = model.predict([uid]).ravel()\n",
    "recommDf = pd.DataFrame(data={\n",
    "              \"userId\": uid,\n",
    "              \"movieId\": range(len(recomm)),\n",
    "              \"title\": midMap[np.arange(len(recomm))].values,\n",
    "              \"rating\": teRatingMat[uid, range(len(recomm))],\n",
    "              \"predRating\": recomm},\n",
    "             columns=(\"userId\", \"movieId\", \"title\", \"rating\", \"predRating\"))\n",
    "# ascending 可以調整True or False觀察結果\n",
    "recommDf.query(\"rating != 0\").sort_values(\"rating\", ascending=False).head(50)"
   ]
  },
  {
   "cell_type": "markdown",
   "metadata": {},
   "source": [
    "#### Model導向評估(Precision)"
   ]
  },
  {
   "cell_type": "code",
   "execution_count": 44,
   "metadata": {
    "scrolled": true
   },
   "outputs": [
    {
     "name": "stdout",
     "output_type": "stream",
     "text": [
      "recommend for user 13\n"
     ]
    },
    {
     "data": {
      "text/html": [
       "<div>\n",
       "<style scoped>\n",
       "    .dataframe tbody tr th:only-of-type {\n",
       "        vertical-align: middle;\n",
       "    }\n",
       "\n",
       "    .dataframe tbody tr th {\n",
       "        vertical-align: top;\n",
       "    }\n",
       "\n",
       "    .dataframe thead th {\n",
       "        text-align: right;\n",
       "    }\n",
       "</style>\n",
       "<table border=\"1\" class=\"dataframe\">\n",
       "  <thead>\n",
       "    <tr style=\"text-align: right;\">\n",
       "      <th></th>\n",
       "      <th>userId</th>\n",
       "      <th>movieId</th>\n",
       "      <th>title</th>\n",
       "      <th>rating</th>\n",
       "      <th>predRating</th>\n",
       "    </tr>\n",
       "  </thead>\n",
       "  <tbody>\n",
       "    <tr>\n",
       "      <th>3000</th>\n",
       "      <td>13</td>\n",
       "      <td>3000</td>\n",
       "      <td>Chicken Run (2000)</td>\n",
       "      <td>4.0</td>\n",
       "      <td>3.222571</td>\n",
       "    </tr>\n",
       "    <tr>\n",
       "      <th>2291</th>\n",
       "      <td>13</td>\n",
       "      <td>2291</td>\n",
       "      <td>For Love of the Game (1999)</td>\n",
       "      <td>2.0</td>\n",
       "      <td>3.149171</td>\n",
       "    </tr>\n",
       "    <tr>\n",
       "      <th>2893</th>\n",
       "      <td>13</td>\n",
       "      <td>2893</td>\n",
       "      <td>Mission: Impossible II (2000)</td>\n",
       "      <td>3.0</td>\n",
       "      <td>2.916539</td>\n",
       "    </tr>\n",
       "    <tr>\n",
       "      <th>2538</th>\n",
       "      <td>13</td>\n",
       "      <td>2538</td>\n",
       "      <td>Stuart Little (1999)</td>\n",
       "      <td>2.0</td>\n",
       "      <td>2.787950</td>\n",
       "    </tr>\n",
       "    <tr>\n",
       "      <th>3190</th>\n",
       "      <td>13</td>\n",
       "      <td>3190</td>\n",
       "      <td>6th Day, The (2000)</td>\n",
       "      <td>3.0</td>\n",
       "      <td>2.708077</td>\n",
       "    </tr>\n",
       "    <tr>\n",
       "      <th>3192</th>\n",
       "      <td>13</td>\n",
       "      <td>3192</td>\n",
       "      <td>How the Grinch Stole Christmas (a.k.a. The Gri...</td>\n",
       "      <td>4.0</td>\n",
       "      <td>2.516231</td>\n",
       "    </tr>\n",
       "    <tr>\n",
       "      <th>2681</th>\n",
       "      <td>13</td>\n",
       "      <td>2681</td>\n",
       "      <td>Mission to Mars (2000)</td>\n",
       "      <td>3.0</td>\n",
       "      <td>2.022128</td>\n",
       "    </tr>\n",
       "  </tbody>\n",
       "</table>\n",
       "</div>"
      ],
      "text/plain": [
       "      userId  movieId                                              title  \\\n",
       "3000      13     3000                                 Chicken Run (2000)   \n",
       "2291      13     2291                        For Love of the Game (1999)   \n",
       "2893      13     2893                      Mission: Impossible II (2000)   \n",
       "2538      13     2538                               Stuart Little (1999)   \n",
       "3190      13     3190                                6th Day, The (2000)   \n",
       "3192      13     3192  How the Grinch Stole Christmas (a.k.a. The Gri...   \n",
       "2681      13     2681                             Mission to Mars (2000)   \n",
       "\n",
       "      rating  predRating  \n",
       "3000     4.0    3.222571  \n",
       "2291     2.0    3.149171  \n",
       "2893     3.0    2.916539  \n",
       "2538     2.0    2.787950  \n",
       "3190     3.0    2.708077  \n",
       "3192     4.0    2.516231  \n",
       "2681     3.0    2.022128  "
      ]
     },
     "execution_count": 44,
     "metadata": {},
     "output_type": "execute_result"
    }
   ],
   "source": [
    "print(\"recommend for user {}\".format(uid))\n",
    "recommDf.query(\"rating != 0\").sort_values(\"predRating\", ascending=False)"
   ]
  },
  {
   "cell_type": "markdown",
   "metadata": {},
   "source": [
    "### Precision At K (K = 10)"
   ]
  },
  {
   "cell_type": "code",
   "execution_count": 33,
   "metadata": {},
   "outputs": [
    {
     "data": {
      "image/png": "[encoded data removed]",
      "text/plain": [
       "<matplotlib.figure.Figure at 0x2dd126a0>"
      ]
     },
     "metadata": {},
     "output_type": "display_data"
    }
   ],
   "source": [
    "pos_ary, neg_ary = [], []\n",
    "for label in teRatingMat:\n",
    "    label = label[label != 0]\n",
    "    pos_ary.append(sum(label >= 4))\n",
    "    neg_ary.append(sum(label < 4))\n",
    "    # print(\"pos: {}, neg: {}\".format(sum(label >= 4), sum(label < 4)))\n",
    "    \n",
    "def draw_pos_neg(idx):\n",
    "    pd.DataFrame(\n",
    "        index=idx,\n",
    "        data={\"pos\": np.array(pos_ary)[idx], \"neg\": np.array(neg_ary)[idx]}).plot.bar(figsize=(10, 5), alpha=0.8)\n",
    "    plt.show()\n",
    "\n",
    "draw_pos_neg(np.arange(len(teRatingMat))[0:10])"
   ]
  },
  {
   "cell_type": "markdown",
   "metadata": {},
   "source": [
    "### About Test Data Movie Ratings(觀察上圖)\n",
    "```\n",
    "1. 0號, 2號, 5號, 9號 user 正向評價數量 < 10, 就算model全部預測命中, 命中率也不會是 100%!\n",
    "   ex: 0號user只有1個正向評價, 全部命中也指得到0.1的分數\n",
    "2. 3號user正向評價是負向評價的5倍多, 就算亂猜, 中的機率也很高\n",
    "```"
   ]
  },
  {
   "cell_type": "code",
   "execution_count": 17,
   "metadata": {},
   "outputs": [
    {
     "name": "stdout",
     "output_type": "stream",
     "text": [
      "266 個user正向評價總數小於10!\n"
     ]
    }
   ],
   "source": [
    "_ = sum(np.sum(teRatingMat >= 4, 1) < 10)\n",
    "print(\"{} 個user正向評價總數小於10!\".format(_))"
   ]
  },
  {
   "cell_type": "code",
   "execution_count": 33,
   "metadata": {},
   "outputs": [
    {
     "name": "stdout",
     "output_type": "stream",
     "text": [
      "test data中, rating數量 >= 10 且 負評價數量 >= 正評價數量 有 [209] 人\n",
      "test data中, rating正評價數量 >= 0 且 rating負評價數量 >= 0 有 [669] 人\n"
     ]
    }
   ],
   "source": [
    "def strict_condition(label):\n",
    "    label = label[label != 0]\n",
    "    pos, neg = sum(label >= 4), sum(label < 4)\n",
    "    return len(label) >= 10 and pos <= neg and pos > 0\n",
    "    \n",
    "print(\"test data中, rating數量 >= 10 且 負評價數量 >= 正評價數量 有 [{}] 人\".format(sum(strict_condition(label) for label in teRatingMat)))\n",
    "\n",
    "def norm_condition(label):\n",
    "    label = label[label != 0]\n",
    "    return sum(label >= 4) > 0 and sum(label < 4) > 0\n",
    "\n",
    "print(\"test data中, rating正評價數量 >= 0 且 rating負評價數量 >= 0 有 [{}] 人\".format(sum(norm_condition(label) for label in teRatingMat)))"
   ]
  },
  {
   "cell_type": "markdown",
   "metadata": {},
   "source": [
    "#### Precision At K: \n",
    "> **預測分數高(rating >= 4)的前10部電影, 和實際user rating比較, 觀察命中率**"
   ]
  },
  {
   "cell_type": "code",
   "execution_count": 46,
   "metadata": {},
   "outputs": [
    {
     "name": "stdout",
     "output_type": "stream",
     "text": [
      "strict condition precision at 10:  0.5057416267942584\n",
      "norm condition precision at 10:  0.6312406576980568\n",
      "Wall time: 6.42 s\n"
     ]
    }
   ],
   "source": [
    "%%time\n",
    "from sklearn.metrics import precision_score\n",
    "\n",
    "def precision_at_k(truth, pred_mat, condition_fn=None, k=10, label_thres=4):\n",
    "    hits, total = 0, 0\n",
    "    for label, pr in zip(truth, pred_mat):\n",
    "        if not condition_fn(label): continue\n",
    "\n",
    "        top_k_ind = (pr * (label != 0)).argsort()[::-1][:k]\n",
    "        hits += sum(label[top_k_ind] >= label_thres)\n",
    "        total += k\n",
    "    return hits / total\n",
    "\n",
    "pred_mat= []\n",
    "users = np.arange(nUsers)\n",
    "for pos in range(0, nUsers, 200):\n",
    "    batch = users[pos:pos + 200]\n",
    "    pred_mat.append(model.predict(batch, simFn=cosine_similarity))\n",
    "pred_mat = np.vstack(pred_mat)\n",
    "\n",
    "print( \"strict condition precision at 10: \", precision_at_k(teRatingMat, pred_mat, strict_condition, k=10) )\n",
    "print( \"norm condition precision at 10: \", precision_at_k(teRatingMat, pred_mat, norm_condition, k=10) )"
   ]
  },
  {
   "cell_type": "markdown",
   "metadata": {},
   "source": [
    "### NDCG: Normalized Discounted Cumulative Gain\n",
    "1. A measure of ranking quality.\n",
    "2. loop 每一位user, prediciton score排序後計算NDCG\n",
    "    <br/>$$ DCG_p = \\sum^p_{i = 1} \\frac{2^{rel_i} - 1}{log_2(i + 1)} $$<br/>\n",
    "3. IDCG: Ideal DCG, 為理想狀態下的DCG分數, 即model全部命中的DCG分數, 而NDCG: Normalized DCG, 公式如下\n",
    "    <br/>$$ NDCG_p = \\sum^p_{i = 1} \\frac{DCG_p}{IDCG_p} $$<br/>\n",
    "4. 所以NDCG是一個比值, 介於0 ~ 1之間"
   ]
  },
  {
   "cell_type": "code",
   "execution_count": 20,
   "metadata": {},
   "outputs": [
    {
     "name": "stdout",
     "output_type": "stream",
     "text": [
      "strict condition ndcg at 10:  0.609228658824\n",
      "norm condition ndcg at 10:  0.752621640898\n"
     ]
    }
   ],
   "source": [
    "def single_user_ndcg(label, score, label_thres=4, k=10):\n",
    "    \"\"\"single user ndcg score\"\"\"\n",
    "    nnz = label.nonzero()[0]\n",
    "    # if np.sum(label >= label_thres) < k: return None\n",
    "    label, score = label[nnz], score[nnz]\n",
    "    label = (label >= label_thres).astype(int)\n",
    "    return utils.ndcg_score(label, score, k)\n",
    "\n",
    "def all_user_ndcg(label, pred_mat, cond_fn, label_thres=4, k=10):\n",
    "    \"\"\"avg of all user ndcg score\"\"\"\n",
    "    tot_ndcg, actual_cnt = 0, 0\n",
    "    for i, (label, score) in enumerate(zip(teRatingMat, pred_mat)):\n",
    "        if not cond_fn(label): continue\n",
    "\n",
    "        ndcg = single_user_ndcg(label, score, k=10)\n",
    "        if ndcg is not None:\n",
    "            tot_ndcg += ndcg\n",
    "            actual_cnt += 1\n",
    "    return tot_ndcg / actual_cnt\n",
    "\n",
    "pred_mat = []\n",
    "for pos in range(0, nUsers, 200):\n",
    "    batch = users[pos:pos + 200]\n",
    "    pred_mat.append(model.predict(batch, simFn=cosine_similarity))\n",
    "pred_mat = np.vstack(pred_mat)\n",
    "    \n",
    "strict_ndcg = all_user_ndcg(teRatingMat, pred_mat, strict_condition, label_thres=4, k=10)\n",
    "norm_ndcg = all_user_ndcg(teRatingMat, pred_mat, norm_condition, label_thres=4, k=10)\n",
    "print(\"strict condition ndcg at 10: \", strict_ndcg)\n",
    "print(\"norm condition ndcg at 10: \", norm_ndcg)"
   ]
  },
  {
   "cell_type": "markdown",
   "metadata": {},
   "source": [
    "### ROC_CURVE (Receiver operating characteristic), AUC (Area Under Curve)\n",
    "TP Rate cross FP Rate, 觀察curve的變化\n",
    "1. AUC = 0.5 (no discrimination 無鑑別力)\n",
    "2. 0.7 ≦ AUC ≦ 0.8 (acceptable discrimination 可接受的鑑別力)\n",
    "3. 0.8 ≦ AUC ≦ 0.9 (excellent discrimination 優良的鑑別力)\n",
    "4. 0.9 ≦ AUC ≦ 1.0 (outstanding discrimination 極佳的鑑別力)"
   ]
  },
  {
   "cell_type": "code",
   "execution_count": 29,
   "metadata": {},
   "outputs": [
    {
     "name": "stdout",
     "output_type": "stream",
     "text": [
      "auc: 0.6293958936986446\n"
     ]
    },
    {
     "data": {
      "image/png": "[encoded data removed]",
      "text/plain": [
       "<Figure size 432x432 with 1 Axes>"
      ]
     },
     "metadata": {},
     "output_type": "display_data"
    }
   ],
   "source": [
    "from sklearn.metrics import roc_curve, auc, confusion_matrix\n",
    "\n",
    "def drawRocCurve(y, predProba):\n",
    "    fprRf, tprRf, _ = roc_curve(y, predProba, pos_label=1)\n",
    "    aucScr = auc(fprRf, tprRf)\n",
    "    print(\"auc:\", aucScr)\n",
    "    f, ax = plt.subplots(1, 1, figsize=(6, 6))\n",
    "    \n",
    "    ax.plot([0, 1], [0, 1], 'k--')\n",
    "    ax.plot(fprRf, tprRf, label='ROC CURVE')\n",
    "    ax.set_xlabel('False positive rate')\n",
    "    ax.set_ylabel('True positive rate')\n",
    "    ax.set_title('ROC: Area Under Curve (score: {:.4f})'.format(aucScr))\n",
    "    ax.legend(loc='best')\n",
    "    plt.show()\n",
    "    \n",
    "# 只看非0的部分\n",
    "coord = teRatingMat.nonzero()\n",
    "predMat = model.predict(np.arange(teRatingMat.shape[0]).tolist(), tpe=\"user\")\n",
    "# regard rating >= 4 as user like this movie\n",
    "drawRocCurve((teRatingMat[coord] >= 4).astype(int), predMat[coord])"
   ]
  },
  {
   "cell_type": "markdown",
   "metadata": {},
   "source": [
    "<br/>\n",
    "<br/>\n",
    "<br/>\n",
    "## Baseline: 不經過訓練隨機產生預測值"
   ]
  },
  {
   "cell_type": "code",
   "execution_count": 30,
   "metadata": {},
   "outputs": [
    {
     "name": "stdout",
     "output_type": "stream",
     "text": [
      "auc: 0.4987375118864056\n"
     ]
    },
    {
     "data": {
      "image/png": "[encoded data removed]",
      "text/plain": [
       "<Figure size 432x432 with 1 Axes>"
      ]
     },
     "metadata": {},
     "output_type": "display_data"
    }
   ],
   "source": [
    "dummyPredMat = np.random.random((nUsers, nMovies))\n",
    "drawRocCurve((teRatingMat >= 4).astype(int).ravel(), dummyPredMat.ravel())"
   ]
  },
  {
   "cell_type": "markdown",
   "metadata": {},
   "source": [
    "+ 不經過訓練隨機產生預測值 precision at 10"
   ]
  },
  {
   "cell_type": "code",
   "execution_count": 47,
   "metadata": {},
   "outputs": [
    {
     "name": "stdout",
     "output_type": "stream",
     "text": [
      "strict condition precision at 10:  0.3751196172248804\n",
      "norm condition precision at 10:  0.5414050822122571\n"
     ]
    }
   ],
   "source": [
    "print( \"strict condition precision at 10: \", precision_at_k(teRatingMat, dummyPredMat, strict_condition, k=10) )\n",
    "print( \"norm condition precision at 10: \", precision_at_k(teRatingMat, dummyPredMat, norm_condition, k=10) )"
   ]
  },
  {
   "cell_type": "markdown",
   "metadata": {},
   "source": [
    "+ 不經過訓練隨機產生預測值 ndcg at 10"
   ]
  },
  {
   "cell_type": "code",
   "execution_count": 25,
   "metadata": {},
   "outputs": [
    {
     "name": "stdout",
     "output_type": "stream",
     "text": [
      "strict condition ndcg at 10:  0.455902044569\n",
      "norm condition ndcg at 10:  0.637114073086\n"
     ]
    }
   ],
   "source": [
    "strict_ndcg = all_user_ndcg(label, dummyPredMat, strict_condition, label_thres=4, k=10)\n",
    "norm_ndcg = all_user_ndcg(label, dummyPredMat, norm_condition, label_thres=4, k=10)\n",
    "print(\"strict condition ndcg at 10: \", strict_ndcg)\n",
    "print(\"norm condition ndcg at 10: \", norm_ndcg)"
   ]
  },
  {
   "cell_type": "markdown",
   "metadata": {},
   "source": [
    "<br/>\n",
    "<br/>\n",
    "<br/>\n",
    "## Concept\n",
    "1. MAE, RMSE, 是最基本拿來評估的指標, Netflix競賽指標就是以RMSE為指標\n",
    "2. AUC(ROC) => TP Rate cross FP Rate, 觀察curve的變化\n",
    "    + AUC = 0.5 (no discrimination 無鑑別力)\n",
    "    + 0.7 ≦ AUC ≦ 0.8 (acceptable discrimination 可接受的鑑別力)\n",
    "    + 0.8 ≦ AUC ≦ 0.9 (excellent discrimination 優良的鑑別力)\n",
    "    + 0.9 ≦ AUC ≦ 1.0 (outstanding discrimination 極佳的鑑別力)\n",
    "3. NDCG rank sensitive的指標, recommendation可視為ranking problem. ex: 跟主題相關的item擺在第1位的分數, \n",
    "    與擺在第5位的分數相比, 前者分數較高\n",
    "4. precision at k與recall at k的部分以recommendation來說會較注重precision, 因為recall需要得知user所有偏愛的items, 而這個資訊通常無法得知"
   ]
  }
 ],
 "metadata": {
  "kernelspec": {
   "display_name": "Python 3",
   "language": "python",
   "name": "python3"
  },
  "language_info": {
   "codemirror_mode": {
    "name": "ipython",
    "version": 3
   },
   "file_extension": ".py",
   "mimetype": "text/x-python",
   "name": "python",
   "nbconvert_exporter": "python",
   "pygments_lexer": "ipython3",
   "version": "3.6.0"
  }
 },
 "nbformat": 4,
 "nbformat_minor": 2
}
