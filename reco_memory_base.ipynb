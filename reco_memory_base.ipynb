{
 "cells": [
  {
   "cell_type": "code",
   "execution_count": 3,
   "metadata": {},
   "outputs": [],
   "source": [
    "\"\"\"\n",
    "Import some packages that need to use in this tutorial.\n",
    "\"\"\"\n",
    "\n",
    "import warnings \n",
    "with warnings.catch_warnings(): \n",
    "    warnings.filterwarnings(\"ignore\",category=FutureWarning) \n",
    "    import h5py\n",
    "    \n",
    "import os, sys, numpy as np, pandas as pd, tensorflow as tf, re, codecs, json\n",
    "import pickle, collections, random, math, numbers, scipy.sparse as sp\n",
    "\n",
    "def reload(mName):\n",
    "    import importlib\n",
    "    if mName in sys.modules:\n",
    "        del sys.modules[mName]\n",
    "    return importlib.import_module(mName)\n",
    "\n",
    "from sklearn.metrics.pairwise import cosine_similarity, euclidean_distances\n",
    "from sklearn.metrics import mean_squared_error, mean_absolute_error\n",
    "\n",
    "from math import sqrt\n",
    "from sklearn.preprocessing import LabelEncoder, minmax_scale\n",
    "from matplotlib import pyplot as plt\n",
    "plt.style.use('ggplot')\n",
    "\n",
    "utils = reload('utils.utils')\n",
    "np.set_printoptions(precision=4, suppress=True, linewidth=100)"
   ]
  },
  {
   "cell_type": "markdown",
   "metadata": {},
   "source": [
    "# MovieLens 100K dataset\n",
    "\n",
    "這次使用的資料集為MovieLens 100K，約有100,000筆電影的評分資訊。本次課程我們將使用此資料集來預測每位使用者對每部電影的評分。"
   ]
  },
  {
   "cell_type": "markdown",
   "metadata": {},
   "source": [
    "\n",
    "## 1. Data Preprocessing \n",
    "首先，我們須先將資料載入，並對資料做些預處理。\n",
    "1. 載入raw data\n",
    "2. 將user_id, movie_id編碼成index 0 開始的流水號"
   ]
  },
  {
   "cell_type": "code",
   "execution_count": 4,
   "metadata": {},
   "outputs": [
    {
     "name": "stdout",
     "output_type": "stream",
     "text": [
      "No. of ratings: 100004\n",
      "No. of attributes: 4\n",
      "\n",
      "Preview some data ...\n",
      "   userId  movieId  rating   timestamp\n",
      "0       0       30     2.5  1260759144\n",
      "1       0      833     3.0  1260759179\n",
      "2       0      859     3.0  1260759182\n",
      "3       0      906     2.0  1260759185\n",
      "4       0      931     4.0  1260759205\n"
     ]
<<<<<<< HEAD
=======
    },
    {
     "data": {
      "text/html": [
       "<div>\n",
       "<style scoped>\n",
       "    .dataframe tbody tr th:only-of-type {\n",
       "        vertical-align: middle;\n",
       "    }\n",
       "\n",
       "    .dataframe tbody tr th {\n",
       "        vertical-align: top;\n",
       "    }\n",
       "\n",
       "    .dataframe thead th {\n",
       "        text-align: right;\n",
       "    }\n",
       "</style>\n",
       "<table border=\"1\" class=\"dataframe\">\n",
       "  <thead>\n",
       "    <tr style=\"text-align: right;\">\n",
       "      <th></th>\n",
       "      <th>userId</th>\n",
       "      <th>movieId</th>\n",
       "      <th>rating</th>\n",
       "      <th>timestamp</th>\n",
       "    </tr>\n",
       "  </thead>\n",
       "  <tbody>\n",
       "    <tr>\n",
       "      <th>0</th>\n",
       "      <td>0</td>\n",
       "      <td>30</td>\n",
       "      <td>2.5</td>\n",
       "      <td>1260759144</td>\n",
       "    </tr>\n",
       "    <tr>\n",
       "      <th>1</th>\n",
       "      <td>0</td>\n",
       "      <td>833</td>\n",
       "      <td>3.0</td>\n",
       "      <td>1260759179</td>\n",
       "    </tr>\n",
       "    <tr>\n",
       "      <th>2</th>\n",
       "      <td>0</td>\n",
       "      <td>859</td>\n",
       "      <td>3.0</td>\n",
       "      <td>1260759182</td>\n",
       "    </tr>\n",
       "    <tr>\n",
       "      <th>3</th>\n",
       "      <td>0</td>\n",
       "      <td>906</td>\n",
       "      <td>2.0</td>\n",
       "      <td>1260759185</td>\n",
       "    </tr>\n",
       "    <tr>\n",
       "      <th>4</th>\n",
       "      <td>0</td>\n",
       "      <td>931</td>\n",
       "      <td>4.0</td>\n",
       "      <td>1260759205</td>\n",
       "    </tr>\n",
       "  </tbody>\n",
       "</table>\n",
       "</div>"
      ],
      "text/plain": [
       "   userId  movieId  rating   timestamp\n",
       "0       0       30     2.5  1260759144\n",
       "1       0      833     3.0  1260759179\n",
       "2       0      859     3.0  1260759182\n",
       "3       0      906     2.0  1260759185\n",
       "4       0      931     4.0  1260759205"
      ]
     },
     "execution_count": 4,
     "metadata": {},
     "output_type": "execute_result"
>>>>>>> e90629d3edcaa73b38bed2e1883ecfb131929079
    }
   ],
   "source": [
    "# 1. 載入raw data\n",
    "ratings = pd.read_csv(\"./data/ml-latest-small/ratings.csv\")\n",
    "movies = pd.read_csv(\"./data/ml-latest-small/movies.csv\")\n",
    "tags = pd.read_csv(\"./data/ml-latest-small/tags.csv\")\n",
    "\n",
    "# 2. 將user_id, movie_id編碼成index 0 開始的流水號\n",
    "uidEnc, midEnc = LabelEncoder(), LabelEncoder()\n",
    "# encode user id and movie id to real value\n",
    "midEnc.fit(movies.movieId)\n",
    "uidEnc.fit(ratings.userId)\n",
    "ratings[\"userId\"] = uidEnc.transform(ratings.userId)\n",
    "ratings[\"movieId\"] = midEnc.transform(ratings.movieId)\n",
    "movies[\"movieId\"] = midEnc.transform(movies.movieId)\n",
    "\n",
    "tags[\"userId\"] = uidEnc.transform(tags.userId)\n",
    "tags[\"movieId\"] = midEnc.transform(tags.movieId)\n",
    "\n",
    "midMap = pd.Series(dict(zip(movies.movieId, movies.title)))\n",
    "\n",
    "nUsers, nMovies = len(uidEnc.classes_), len(midEnc.classes_)\n",
    "print('No. of ratings: {}'.format(ratings.shape[0]))\n",
    "print('No. of attributes: {}'.format(ratings.shape[1]))\n",
    "print()\n",
    "print('Preview some data ...')\n",
    "print(ratings.head())\n"
   ]
  },
  {
   "cell_type": "code",
   "execution_count": 5,
   "metadata": {},
   "outputs": [
    {
     "data": {
      "text/html": [
       "<div>\n",
       "<style>\n",
       "    .dataframe thead tr:only-child th {\n",
       "        text-align: right;\n",
       "    }\n",
       "\n",
       "    .dataframe thead th {\n",
       "        text-align: left;\n",
       "    }\n",
       "\n",
       "    .dataframe tbody tr th {\n",
       "        vertical-align: top;\n",
       "    }\n",
       "</style>\n",
       "<table border=\"1\" class=\"dataframe\">\n",
       "  <thead>\n",
       "    <tr style=\"text-align: right;\">\n",
       "      <th></th>\n",
       "      <th>movieId</th>\n",
       "      <th>title</th>\n",
       "      <th>genres</th>\n",
       "    </tr>\n",
       "  </thead>\n",
       "  <tbody>\n",
       "    <tr>\n",
       "      <th>0</th>\n",
       "      <td>0</td>\n",
       "      <td>Toy Story (1995)</td>\n",
       "      <td>Adventure|Animation|Children|Comedy|Fantasy</td>\n",
       "    </tr>\n",
       "    <tr>\n",
       "      <th>1</th>\n",
       "      <td>1</td>\n",
       "      <td>Jumanji (1995)</td>\n",
       "      <td>Adventure|Children|Fantasy</td>\n",
       "    </tr>\n",
       "    <tr>\n",
       "      <th>2</th>\n",
       "      <td>2</td>\n",
       "      <td>Grumpier Old Men (1995)</td>\n",
       "      <td>Comedy|Romance</td>\n",
       "    </tr>\n",
       "    <tr>\n",
       "      <th>3</th>\n",
       "      <td>3</td>\n",
       "      <td>Waiting to Exhale (1995)</td>\n",
       "      <td>Comedy|Drama|Romance</td>\n",
       "    </tr>\n",
       "    <tr>\n",
       "      <th>4</th>\n",
       "      <td>4</td>\n",
       "      <td>Father of the Bride Part II (1995)</td>\n",
       "      <td>Comedy</td>\n",
       "    </tr>\n",
       "  </tbody>\n",
       "</table>\n",
       "</div>"
      ],
      "text/plain": [
       "   movieId                               title  \\\n",
       "0        0                    Toy Story (1995)   \n",
       "1        1                      Jumanji (1995)   \n",
       "2        2             Grumpier Old Men (1995)   \n",
       "3        3            Waiting to Exhale (1995)   \n",
       "4        4  Father of the Bride Part II (1995)   \n",
       "\n",
       "                                        genres  \n",
       "0  Adventure|Animation|Children|Comedy|Fantasy  \n",
       "1                   Adventure|Children|Fantasy  \n",
       "2                               Comedy|Romance  \n",
       "3                         Comedy|Drama|Romance  \n",
       "4                                       Comedy  "
      ]
     },
     "execution_count": 5,
     "metadata": {},
     "output_type": "execute_result"
    }
   ],
   "source": [
    "# movies profile\n",
    "movies.head()"
   ]
  },
  {
   "cell_type": "code",
   "execution_count": 6,
   "metadata": {},
   "outputs": [
    {
     "data": {
      "text/html": [
       "<div>\n",
       "<style>\n",
       "    .dataframe thead tr:only-child th {\n",
       "        text-align: right;\n",
       "    }\n",
       "\n",
       "    .dataframe thead th {\n",
       "        text-align: left;\n",
       "    }\n",
       "\n",
       "    .dataframe tbody tr th {\n",
       "        vertical-align: top;\n",
       "    }\n",
       "</style>\n",
       "<table border=\"1\" class=\"dataframe\">\n",
       "  <thead>\n",
       "    <tr style=\"text-align: right;\">\n",
       "      <th></th>\n",
       "      <th>userId</th>\n",
       "      <th>movieId</th>\n",
       "      <th>tag</th>\n",
       "      <th>timestamp</th>\n",
       "    </tr>\n",
       "  </thead>\n",
       "  <tbody>\n",
       "    <tr>\n",
       "      <th>0</th>\n",
       "      <td>14</td>\n",
       "      <td>304</td>\n",
       "      <td>sandra 'boring' bullock</td>\n",
       "      <td>1138537770</td>\n",
       "    </tr>\n",
       "    <tr>\n",
       "      <th>1</th>\n",
       "      <td>14</td>\n",
       "      <td>1517</td>\n",
       "      <td>dentist</td>\n",
       "      <td>1193435061</td>\n",
       "    </tr>\n",
       "    <tr>\n",
       "      <th>2</th>\n",
       "      <td>14</td>\n",
       "      <td>5166</td>\n",
       "      <td>Cambodia</td>\n",
       "      <td>1170560997</td>\n",
       "    </tr>\n",
       "    <tr>\n",
       "      <th>3</th>\n",
       "      <td>14</td>\n",
       "      <td>6118</td>\n",
       "      <td>Russian</td>\n",
       "      <td>1170626366</td>\n",
       "    </tr>\n",
       "    <tr>\n",
       "      <th>4</th>\n",
       "      <td>14</td>\n",
       "      <td>6178</td>\n",
       "      <td>forgettable</td>\n",
       "      <td>1141391765</td>\n",
       "    </tr>\n",
       "  </tbody>\n",
       "</table>\n",
       "</div>"
      ],
      "text/plain": [
       "   userId  movieId                      tag   timestamp\n",
       "0      14      304  sandra 'boring' bullock  1138537770\n",
       "1      14     1517                  dentist  1193435061\n",
       "2      14     5166                 Cambodia  1170560997\n",
       "3      14     6118                  Russian  1170626366\n",
       "4      14     6178              forgettable  1141391765"
      ]
     },
     "execution_count": 6,
     "metadata": {},
     "output_type": "execute_result"
    }
   ],
   "source": [
    "# tags profile\n",
    "tags.head()"
   ]
  },
  {
   "cell_type": "markdown",
   "metadata": {},
   "source": [
    "## 2. Split Train and Test Data, Making Rating Matrix\n",
    "我們將把資料分為訓練用和測試用，並建立每位使用者對每部電影的矩陣(rating matrix)"
   ]
  },
  {
   "cell_type": "code",
<<<<<<< HEAD
   "execution_count": 5,
   "metadata": {
    "collapsed": true
   },
=======
   "execution_count": 7,
   "metadata": {},
>>>>>>> e90629d3edcaa73b38bed2e1883ecfb131929079
   "outputs": [],
   "source": [
    "# # 已經產生出檔案的不用跑這一段\n",
    "# tr, te = utils.split_ratings(ratings, testRatio=0.3)\n",
    "# tr.to_csv(\"./data/ml-latest-small/movielens.tr.csv\", index=False)\n",
    "# te.to_csv(\"./data/ml-latest-small/movielens.te.csv\", index=False)\n",
    "# utils.dumpPickle(\"./data/ml-latest-small/state.h\", \n",
    "#         {\"uidEnc\": uidEnc, \"midEnc\": midEnc, \"midMap\": midMap, \"nUsers\": nUsers, \"nMovies\":nMovies})"
   ]
  },
  {
   "cell_type": "code",
   "execution_count": 8,
   "metadata": {},
   "outputs": [
    {
     "name": "stdout",
     "output_type": "stream",
     "text": [
      "No. of users:  671 ; No. of items:  9125\n",
      "Train interaction matrix shape:  (671, 9125) ; Test interaction matrix shape:  (671, 9125)\n",
      "No. of training samples:  69399 ; No. of testing samples:  30605\n",
      "\n",
      "   userId  movieId  rating   timestamp\n",
      "0       0      931     4.0  1260759205\n",
      "1       0     1515     4.0  1260759191\n",
      "2       0       30     2.5  1260759144\n",
      "3       0      833     3.0  1260759179\n",
      "4       0      859     3.0  1260759182\n",
      "\n",
      "   userId  movieId  rating   timestamp\n",
      "0       0     1665     4.0  1260759139\n",
      "1       0     1708     3.0  1260759194\n",
      "2       0     1743     2.0  1260759198\n",
      "3       0     1815     2.0  1260759108\n",
      "4       0     1962     2.5  1260759113\n"
     ]
    }
   ],
   "source": [
    "tr = pd.read_csv(\"./data/ml-latest-small/movielens.tr.csv\")\n",
    "te = pd.read_csv(\"./data/ml-latest-small/movielens.te.csv\")\n",
    "\n",
    "# state = utils.loadPickle(\"./data/ml-latest-small/state.h\")\n",
    "# uidEnc, midEnc, midMap, nUsers, nMovies = \\\n",
    "#     (state[\"uidEnc\"], state[\"midEnc\"], state[\"midMap\"], state[\"nUsers\"], state[\"nMovies\"])\n",
    "\n",
    "# train data rating matrix\n",
    "trRatingMat = np.zeros((nUsers, nMovies))\n",
    "# test data rating matrix\n",
    "teRatingMat = np.zeros((nUsers, nMovies))\n",
    "for idx, r in tr.iterrows():\n",
    "    trRatingMat[int(r.userId), int(r.movieId)] = r.rating\n",
    "for idx, r in te.iterrows():\n",
    "    teRatingMat[int(r.userId), int(r.movieId)] = r.rating\n",
    "\n",
    "print(\"No. of users: \", trRatingMat.shape[0], \"; No. of items: \", trRatingMat.shape[1])\n",
    "print(\"Train interaction matrix shape: \", trRatingMat.shape, \"; Test interaction matrix shape: \", teRatingMat.shape)\n",
    "print(\"No. of training samples: \", tr.shape[0], \"; No. of testing samples: \", te.shape[0])\n",
    "print()\n",
    "print(tr.head())\n",
    "print()\n",
    "print(te.head())"
   ]
  },
  {
   "cell_type": "markdown",
   "metadata": {},
   "source": [
    "### Observations\n",
    "```\n",
    "1. user數量遠小於item數量, 這是很常見的狀態\n",
    "2. user attributes與item attributes非常少\n",
    "```"
   ]
  },
  {
   "cell_type": "markdown",
   "metadata": {},
   "source": [
    "## 3. 計算使用者之間的相似度(Similarity)"
   ]
  },
  {
   "cell_type": "markdown",
   "metadata": {},
   "source": [
    "以下我們將定義兩種相似度的計算方式: 1. cosiine similarity;  2. Euclidean distance。使用者之間的相似度定義如下圖所示：\n",
    "\n",
    "![Similarity](./similarity.jpg)"
   ]
  },
  {
   "cell_type": "markdown",
   "metadata": {},
   "source": [
    "### Cosine Similarity"
   ]
  },
  {
   "cell_type": "code",
   "execution_count": 14,
   "metadata": {},
   "outputs": [
    {
     "name": "stdout",
     "output_type": "stream",
     "text": [
      "[ 66 601 547 658 171]\n"
     ]
    }
   ],
   "source": [
    "uid = 66 # user ID\n",
    "simMat = cosine_similarity([trRatingMat[uid]], trRatingMat)\n",
    "# 找出Top 5和自己rating狀況最像的人\n",
    "print(simMat.ravel().argsort()[::-1][:5])"
   ]
  },
  {
   "cell_type": "markdown",
   "metadata": {},
   "source": [
    "### Euclidean Distance"
   ]
  },
  {
   "cell_type": "code",
   "execution_count": 15,
   "metadata": {},
   "outputs": [
    {
     "data": {
      "text/plain": [
       "array([ 66, 171, 107, 628, 121])"
      ]
     },
     "execution_count": 15,
     "metadata": {},
     "output_type": "execute_result"
    }
   ],
   "source": [
    "def euclidean_similarity(*args, **kwargs):\n",
    "    r = euclidean_distances(*args, **kwargs)\n",
    "    return 1 - r / np.max(r)\n",
    "\n",
    "uid = 66 # user ID\n",
    "simMat = euclidean_similarity([trRatingMat[uid]], trRatingMat)\n",
    "# 找出Top 5和自己rating狀況最像的人\n",
    "simMat.ravel().argsort()[::-1][:5]"
   ]
  },
  {
   "cell_type": "markdown",
   "metadata": {},
   "source": [
    "#### 一次算出所有user之間的相似度\n",
    "1. 對稱矩陣\n",
    "2. 對角線(自己和自己的相似度為1)\n",
    "3. 注意user人數過多容易爆記憶體"
   ]
  },
  {
   "cell_type": "code",
   "execution_count": 16,
   "metadata": {},
   "outputs": [
    {
     "name": "stdout",
     "output_type": "stream",
     "text": [
      "shape of user similarity matrix:  (671, 671)\n"
     ]
    },
    {
     "data": {
      "text/plain": [
       "array([[1.    , 0.    , 0.    , ..., 0.0923, 0.    , 0.    ],\n",
       "       [0.    , 1.    , 0.1038, ..., 0.0354, 0.1438, 0.0638],\n",
       "       [0.    , 0.1038, 1.    , ..., 0.0516, 0.1723, 0.1891],\n",
       "       ...,\n",
       "       [0.0923, 0.0354, 0.0516, ..., 1.    , 0.    , 0.0904],\n",
       "       [0.    , 0.1438, 0.1723, ..., 0.    , 1.    , 0.227 ],\n",
       "       [0.    , 0.0638, 0.1891, ..., 0.0904, 0.227 , 1.    ]])"
      ]
     },
     "execution_count": 16,
     "metadata": {},
     "output_type": "execute_result"
    }
   ],
   "source": [
    "simMat = cosine_similarity(trRatingMat)\n",
    "print(\"shape of user similarity matrix: \", simMat.shape)\n",
    "simMat"
   ]
  },
  {
   "cell_type": "markdown",
   "metadata": {},
   "source": [
    "## 4. Memory Based Collaborative Filter 物件\n",
    "Functions\n",
    "1. fit: training, 這裡只是簡單設定 rating matrix\n",
    "2. predict: 產出指定user對於所有items的評分\n",
    "3. evaluateRMSE: 計算方均根誤差 (Mean Root Mean Square)\n",
    "4. evaluateMAE: 計算差異絕對值平均(Mean Absolute Error)\n",
    "(evaluateRMSE, evaluateMAE選用其一即可)"
   ]
  },
  {
   "cell_type": "code",
<<<<<<< HEAD
   "execution_count": 10,
   "metadata": {
    "collapsed": true
   },
=======
   "execution_count": 17,
   "metadata": {},
>>>>>>> e90629d3edcaa73b38bed2e1883ecfb131929079
   "outputs": [],
   "source": [
    "class MemoryBaseCF(object):\n",
    "    \"\"\"使用Collaborative Filtering演算法\"\"\"\n",
    "    def __init__(self):\n",
    "        self.ratings = None\n",
    "        \n",
    "    def fit(self, ratings):\n",
    "        \"\"\"紀錄ratings (interaction matrix between users and items)\"\"\"\n",
    "        self.ratings = ratings\n",
    "        return self\n",
    "    \n",
    "    def predict(self, users:list, simFn=cosine_similarity, tpe=\"user\"):\n",
    "        \"\"\"定義以下變數\n",
    "        user_sim = similarity with other users\n",
    "        item_sim = similarity with other items\n",
    "        ratings = all user ratings on this items\n",
    "        \n",
    "        分別是user base CF與item base CF的算法\n",
    "        user base CF: item score = user_sim dot ratings / sum of user_sim\n",
    "        item base CF: item score = ratings dot item_sim / sum of item_sim\n",
    "        \"\"\"\n",
    "        return predict(self, users, simFn=cosine_similarity, tpe=tpe)\n",
    "    \n",
    "    def evaluateRMSE(self, inputs, tpe=\"user\", nBatch=500):\n",
    "        \"\"\"計算 Root mean square error, 不包含interaction matrix = 0的部分\"\"\"\n",
    "        return evaluateRMSE(self, inputs, tpe, nBatch)\n",
    "    \n",
    "    def evaluateMAE(self, inputs, tpe=\"user\", nBatch=500):\n",
    "        \"\"\"計算 Mean absolute error, 不包含interaction matrix = 0的部分\"\"\"\n",
    "        return evaluateMAE(self, inputs, tpe, nBatch)"
   ]
  },
  {
   "cell_type": "markdown",
   "metadata": {},
   "source": [
    "## 5. Prediction: 計算加權平均數\n",
    "$$ r_{ij} \\leftarrow \\frac{\\sum_i(w_i \\cdot r_{ij})}{\\sum_{i, \\text{where} \\space r_{ij}\\neq 0} w_i} $$\n",
    "![Alt text](./weighted_avg.jpg)"
   ]
  },
  {
   "cell_type": "code",
<<<<<<< HEAD
   "execution_count": 11,
   "metadata": {
    "collapsed": true
   },
=======
   "execution_count": 18,
   "metadata": {},
>>>>>>> e90629d3edcaa73b38bed2e1883ecfb131929079
   "outputs": [],
   "source": [
    "def predict(self, users:list, simFn=cosine_similarity, tpe=\"user\"):\n",
    "    \"\"\"定義以下變數\n",
    "    user_sim = similarity with other users\n",
    "    item_sim = similarity with other items\n",
    "    ratings = all user ratings on this items\n",
    "\n",
    "    分別是User-based CF與Item-based CF的算法\n",
    "    User-based CF: item score = user_sim dot ratings / sum of user_sim\n",
    "    Item-based CF: item score = ratings dot item_sim / sum of item_sim\n",
    "    \"\"\"\n",
    "    if tpe == \"user\":\n",
    "        # shape of inputUserRate is len(users) * nItems\n",
    "        inputUserRate = self.ratings[users]\n",
    "        # shape of sim is [len(users) * nUsers]\n",
    "        sim = simFn(inputUserRate, self.ratings)\n",
    "        # shape of dot is [len(users) * nItems]\n",
    "        dot = sim.dot(self.ratings)\n",
    "        # dot = sim.dot(self.ratingsDiff)\n",
    "\n",
    "        # mask 對於此item沒有rating的項目\n",
    "        # shape of simSum is [len(users) * nItems]\n",
    "        simSum = sim.dot(self.ratings != 0) # simSum = sim.dot(np.ones_like(self.ratings))\n",
    "\n",
    "        ret = np.zeros_like(dot)\n",
    "        # item rating = ((user similarity) dot product (all user rating to this item)) / masked sum of user similarity\n",
    "        for user in np.arange(dot.shape[0]):\n",
    "            for item in np.arange(dot.shape[1]):\n",
    "                # maskedSimSum = np.sum(singleUserSim * (self.ratings[:, item] != 0))\n",
    "                ret[user, item] = (dot[user, item] / simSum[user, item]) if simSum[user, item] != 0 else 0\n",
    "        return np.clip(ret, 1, 5)\n",
    "        # return np.clip(self.meanRating[users] + ret, 0, 5)\n",
    "    elif tpe == \"item\":\n",
    "        # shape of inputUserRate is len(users) * nItems\n",
    "        inputUserRate = self.ratings[users]\n",
    "        # shape of sim is [nItems * nItems]\n",
    "        sim = simFn(self.ratings.T)\n",
    "        # shape of dot is [len(users) * nItems]\n",
    "        dot = inputUserRate.dot(sim)\n",
    "        # mask 對於此item沒有rating的項目\n",
    "        # shape of simSum is [nUsers * nItems]\n",
    "        simSum = (self.ratings != 0).dot(sim)\n",
    "        ret = np.zeros_like(dot)\n",
    "        # item rating = ((single user rating to this item) dot product (item similarity)) / masked sum of item similarity\n",
    "        for user in np.arange(dot.shape[0]):\n",
    "            for item in np.arange(dot.shape[1]):\n",
    "                # simSum = denom[item]\n",
    "                ret[user, item] = (dot[user, item] / simSum[user, item]) if simSum[user, item] != 0 else 0\n",
    "        return np.clip(ret, 1, 5)"
   ]
  },
  {
   "cell_type": "markdown",
   "metadata": {},
   "source": [
    "### Root Mean Square Error (RMSE)\n",
    "$$ \\sqrt{\\sum_i(Pred_i - True_i)^2} $$\n",
    "### Mean Absolute Error (MAE)\n",
    "$$ \\sum_i \\left| Pred_i - True_i \\right| $$"
   ]
  },
  {
   "cell_type": "code",
<<<<<<< HEAD
   "execution_count": 12,
   "metadata": {
    "collapsed": true
   },
=======
   "execution_count": 19,
   "metadata": {},
>>>>>>> e90629d3edcaa73b38bed2e1883ecfb131929079
   "outputs": [],
   "source": [
    "def evaluateRMSE(self, inputs, tpe=\"user\", nBatch=500):\n",
    "    \"\"\"計算root mean square error, 不包含interaction matrix = 0的部分\"\"\"\n",
    "    loss = 0\n",
    "    users = np.arange(self.ratings.shape[0])\n",
    "    for startPos in range(0, self.ratings.shape[0], nBatch):\n",
    "        batchUsers = users[startPos : startPos + nBatch]\n",
    "        bRatings = self.predict(batchUsers, tpe=tpe)\n",
    "        loss += rmse(bRatings, inputs[startPos : startPos + nBatch]) ** 2 * len(batchUsers)\n",
    "    return math.sqrt(loss / len(users))\n",
    "\n",
    "def evaluateMAE(self, inputs, tpe=\"user\", nBatch=500):\n",
    "    \"\"\"計算 mean absolutely error, 不包含interaction matrix = 0的部分\"\"\"\n",
    "    loss = 0\n",
    "    users = np.arange(self.ratings.shape[0])\n",
    "    for startPos in range(0, self.ratings.shape[0], nBatch):\n",
    "        batchUsers = users[startPos : startPos + nBatch]\n",
    "        bRatings = self.predict(batchUsers, tpe=tpe)\n",
    "        loss += mae(bRatings, inputs[startPos : startPos + nBatch]) * len(batchUsers)\n",
    "    return loss / len(users)\n",
    "\n",
    "def rmse(prediction, ground_truth):\n",
    "    \"\"\"計算squared error的時候會mask掉ground_truth為0的部分\"\"\"\n",
    "    prediction = prediction[ground_truth.nonzero()].flatten()\n",
    "    ground_truth = ground_truth[ground_truth.nonzero()].flatten()\n",
    "    return math.sqrt(mean_squared_error(prediction, ground_truth))\n",
    "\n",
    "def mae(prediction, ground_truth):\n",
    "    \"\"\"計算absolute error的時候會mask掉ground_truth為0的部分\"\"\"\n",
    "    prediction = prediction[ground_truth.nonzero()].flatten()\n",
    "    ground_truth = ground_truth[ground_truth.nonzero()].flatten()\n",
    "    return mean_absolute_error(prediction, ground_truth)"
   ]
  },
  {
   "cell_type": "markdown",
   "metadata": {},
   "source": [
    "## Training"
   ]
  },
  {
   "cell_type": "code",
   "execution_count": 20,
   "metadata": {},
   "outputs": [
    {
     "data": {
      "text/plain": [
<<<<<<< HEAD
       "<__main__.MemoryBaseCF at 0x11007aa90>"
=======
       "<__main__.MemoryBaseCF at 0x1b8223a9f98>"
>>>>>>> e90629d3edcaa73b38bed2e1883ecfb131929079
      ]
     },
     "execution_count": 20,
     "metadata": {},
     "output_type": "execute_result"
    }
   ],
   "source": [
    "# fitting model\n",
    "model = MemoryBaseCF()\n",
    "model.fit(trRatingMat)"
   ]
  },
  {
   "cell_type": "markdown",
   "metadata": {},
   "source": [
    "### Predict (回傳單一User對所有Items的分數)"
   ]
  },
  {
   "cell_type": "code",
   "execution_count": 21,
   "metadata": {},
   "outputs": [
    {
     "data": {
      "text/plain": [
       "array([[3.8833, 3.4444, 3.1242, ..., 1.    , 1.    , 1.    ]])"
      ]
     },
     "execution_count": 21,
     "metadata": {},
     "output_type": "execute_result"
    }
   ],
   "source": [
    "uid = 66\n",
    "model.predict([uid]) # array([[ 3.8833,  3.4444,  3.1242, ...,  1.    ,  1.    ,  1.    ]])"
   ]
  },
  {
   "cell_type": "markdown",
   "metadata": {},
   "source": [
    "### Performance"
   ]
  },
  {
   "cell_type": "code",
   "execution_count": 22,
   "metadata": {},
   "outputs": [
    {
     "name": "stdout",
     "output_type": "stream",
     "text": [
<<<<<<< HEAD
      "User-based Collaborative Filtering MAE loss:  1.1156171786971176\n",
      "User-based Collaborative Filtering RMSE loss:  1.4730915195266507\n",
      "CPU times: user 13.9 s, sys: 747 ms, total: 14.7 s\n",
      "Wall time: 15.2 s\n"
=======
      "user base Collaborative Filtering MAE loss:  1.1156171786971176\n",
      "user base Collaborative Filtering RMSE loss:  1.4730915195266507\n",
      "Wall time: 12.3 s\n"
>>>>>>> e90629d3edcaa73b38bed2e1883ecfb131929079
     ]
    }
   ],
   "source": [
    "%%time\n",
    "print(\"User-based Collaborative Filtering MAE loss: \", model.evaluateMAE(teRatingMat, tpe=\"user\"))\n",
    "print(\"User-based Collaborative Filtering RMSE loss: \", model.evaluateRMSE(teRatingMat, tpe=\"user\"))"
   ]
  },
  {
   "cell_type": "code",
   "execution_count": 23,
   "metadata": {},
   "outputs": [
    {
     "name": "stdout",
     "output_type": "stream",
     "text": [
<<<<<<< HEAD
      "Item-based Collaborative Filtering MAE loss:  1.1693025708268519\n",
      "Item-based Collaborative Filtering RMSE loss:  1.554707314100659\n",
      "CPU times: user 54.7 s, sys: 1.7 s, total: 56.4 s\n",
      "Wall time: 29.2 s\n"
=======
      "item base Collaborative Filtering MAE loss:  1.1693025708268519\n",
      "item base Collaborative Filtering RMSE loss:  1.554707314100659\n",
      "Wall time: 24.5 s\n"
>>>>>>> e90629d3edcaa73b38bed2e1883ecfb131929079
     ]
    }
   ],
   "source": [
    "%%time\n",
    "print(\"Item-based Collaborative Filtering MAE loss: \", model.evaluateMAE(teRatingMat, tpe=\"item\"))\n",
    "print(\"Item-based Collaborative Filtering RMSE loss: \", model.evaluateRMSE(teRatingMat, tpe=\"item\"))"
   ]
  },
  {
   "cell_type": "markdown",
   "metadata": {},
   "source": [
    "### 發現以Item Base去推薦分數不太好, 檢查 Train Data Sparsity:"
   ]
  },
  {
   "cell_type": "code",
<<<<<<< HEAD
   "execution_count": 17,
=======
   "execution_count": 24,
>>>>>>> e90629d3edcaa73b38bed2e1883ecfb131929079
   "metadata": {},
   "outputs": [
    {
     "name": "stdout",
     "output_type": "stream",
     "text": [
      "0 users didn't rate any movie!\n",
      "3164 movies are not rated!\n"
     ]
    }
   ],
   "source": [
    "print( \"{} users didn't rate any movie!\".format((trRatingMat.sum(axis=1) == 0).sum()) )\n",
    "print( \"{} movies are not rated!\".format((trRatingMat.sum(axis=0) == 0).sum()) )"
   ]
  },
  {
   "cell_type": "markdown",
   "metadata": {},
   "source": [
    "## 6. Model Evaluation"
   ]
  },
  {
   "cell_type": "markdown",
   "metadata": {},
   "source": [
    "### 單一user rating分布圖"
   ]
  },
  {
   "cell_type": "code",
<<<<<<< HEAD
   "execution_count": 18,
=======
   "execution_count": 25,
>>>>>>> e90629d3edcaa73b38bed2e1883ecfb131929079
   "metadata": {},
   "outputs": [
    {
     "name": "stdout",
     "output_type": "stream",
     "text": [
      "shape:  (9125,) [3.8319 3.2478 2.7913 ... 1.     1.     1.    ]\n"
     ]
    },
    {
     "data": {
<<<<<<< HEAD
      "image/png": "iVBORw0KGgoAAAANSUhEUgAAAlMAAAFACAYAAACY6/lAAAAABHNCSVQICAgIfAhkiAAAAAlwSFlz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\nAACABYQpAAAACwhTAAAAFhCmAAAALPh/hEg5dvvpRqcAAAAASUVORK5CYII=\n",
      "text/plain": [
       "<matplotlib.figure.Figure at 0x125f43710>"
=======
      "image/png": "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\n",
      "text/plain": [
       "<Figure size 720x360 with 2 Axes>"
>>>>>>> e90629d3edcaa73b38bed2e1883ecfb131929079
      ]
     },
     "metadata": {},
     "output_type": "display_data"
    }
   ],
   "source": [
    "# valid user id from 0 ~ 670\n",
    "uid = 22\n",
    "pred = model.predict([uid]).ravel()\n",
    "print(\"shape: \", pred.shape, pred)\n",
    "\n",
    "nnzCoord = teRatingMat[uid].nonzero()\n",
    "f, ax = plt.subplots(1, 2, figsize=(10, 5))\n",
    "ax[0].set_title(\"pred distribute\")\n",
    "pd.Series(pred.ravel()[nnzCoord]).hist(bins=30, ax=ax[0])\n",
    "ax[1].set_title(\"real distribute\")\n",
    "pd.Series(map(lambda e: e, teRatingMat[uid][nnzCoord])).hist(bins=30, ax=ax[1])\n",
    "plt.show()"
   ]
  },
  {
   "cell_type": "markdown",
   "metadata": {},
   "source": [
    "### User導向評估(Recall)"
   ]
  },
  {
   "cell_type": "code",
<<<<<<< HEAD
   "execution_count": 19,
=======
   "execution_count": 26,
>>>>>>> e90629d3edcaa73b38bed2e1883ecfb131929079
   "metadata": {
    "scrolled": true
   },
   "outputs": [
    {
     "data": {
      "text/html": [
       "<div>\n",
       "<style>\n",
       "    .dataframe thead tr:only-child th {\n",
       "        text-align: right;\n",
       "    }\n",
       "\n",
       "    .dataframe thead th {\n",
       "        text-align: left;\n",
       "    }\n",
       "\n",
       "    .dataframe tbody tr th {\n",
       "        vertical-align: top;\n",
       "    }\n",
       "</style>\n",
       "<table border=\"1\" class=\"dataframe\">\n",
       "  <thead>\n",
       "    <tr style=\"text-align: right;\">\n",
       "      <th></th>\n",
       "      <th>userId</th>\n",
       "      <th>movieId</th>\n",
       "      <th>title</th>\n",
       "      <th>rating</th>\n",
       "      <th>predRating</th>\n",
       "    </tr>\n",
       "  </thead>\n",
       "  <tbody>\n",
       "    <tr>\n",
       "      <th>4417</th>\n",
       "      <td>22</td>\n",
       "      <td>4417</td>\n",
       "      <td>Catch Me If You Can (2002)</td>\n",
       "      <td>5.0</td>\n",
       "      <td>3.770959</td>\n",
       "    </tr>\n",
       "    <tr>\n",
       "      <th>5623</th>\n",
       "      <td>22</td>\n",
       "      <td>5623</td>\n",
       "      <td>Undertow (2004)</td>\n",
       "      <td>5.0</td>\n",
       "      <td>1.000000</td>\n",
       "    </tr>\n",
       "    <tr>\n",
       "      <th>4419</th>\n",
       "      <td>22</td>\n",
       "      <td>4419</td>\n",
       "      <td>Hours, The (2002)</td>\n",
       "      <td>5.0</td>\n",
       "      <td>3.367638</td>\n",
       "    </tr>\n",
       "    <tr>\n",
       "      <th>4432</th>\n",
       "      <td>22</td>\n",
       "      <td>4432</td>\n",
       "      <td>City of God (Cidade de Deus) (2002)</td>\n",
       "      <td>5.0</td>\n",
       "      <td>4.162015</td>\n",
       "    </tr>\n",
       "    <tr>\n",
       "      <th>4371</th>\n",
       "      <td>22</td>\n",
       "      <td>4371</td>\n",
       "      <td>Adaptation (2002)</td>\n",
       "      <td>5.0</td>\n",
       "      <td>4.156001</td>\n",
       "    </tr>\n",
       "    <tr>\n",
       "      <th>4008</th>\n",
       "      <td>22</td>\n",
       "      <td>4008</td>\n",
       "      <td>And Your Mother Too (Y tu mamá también) (2001)</td>\n",
       "      <td>5.0</td>\n",
       "      <td>3.519416</td>\n",
       "    </tr>\n",
       "    <tr>\n",
       "      <th>6132</th>\n",
       "      <td>22</td>\n",
       "      <td>6132</td>\n",
       "      <td>Crash (2004)</td>\n",
       "      <td>5.0</td>\n",
       "      <td>3.689451</td>\n",
       "    </tr>\n",
       "    <tr>\n",
       "      <th>5016</th>\n",
       "      <td>22</td>\n",
       "      <td>5016</td>\n",
       "      <td>Stolen Kisses (Baisers volés) (1968)</td>\n",
       "      <td>5.0</td>\n",
       "      <td>4.000000</td>\n",
       "    </tr>\n",
       "    <tr>\n",
       "      <th>5761</th>\n",
       "      <td>22</td>\n",
       "      <td>5761</td>\n",
       "      <td>Duel (1971)</td>\n",
       "      <td>5.0</td>\n",
       "      <td>4.000000</td>\n",
       "    </tr>\n",
       "    <tr>\n",
       "      <th>4875</th>\n",
       "      <td>22</td>\n",
       "      <td>4875</td>\n",
       "      <td>Unvanquished, The (Aparajito) (1957)</td>\n",
       "      <td>5.0</td>\n",
       "      <td>1.000000</td>\n",
       "    </tr>\n",
       "    <tr>\n",
       "      <th>4855</th>\n",
       "      <td>22</td>\n",
       "      <td>4855</td>\n",
       "      <td>Kill Bill: Vol. 1 (2003)</td>\n",
       "      <td>5.0</td>\n",
       "      <td>3.675404</td>\n",
       "    </tr>\n",
       "    <tr>\n",
       "      <th>4974</th>\n",
       "      <td>22</td>\n",
       "      <td>4974</td>\n",
       "      <td>Stagecoach (1939)</td>\n",
       "      <td>4.5</td>\n",
       "      <td>4.000000</td>\n",
       "    </tr>\n",
       "    <tr>\n",
       "      <th>4972</th>\n",
       "      <td>22</td>\n",
       "      <td>4972</td>\n",
       "      <td>Red River (1948)</td>\n",
       "      <td>4.5</td>\n",
       "      <td>1.000000</td>\n",
       "    </tr>\n",
       "    <tr>\n",
       "      <th>4966</th>\n",
       "      <td>22</td>\n",
       "      <td>4966</td>\n",
       "      <td>Aguirre: The Wrath of God (Aguirre, der Zorn G...</td>\n",
       "      <td>4.5</td>\n",
       "      <td>4.223189</td>\n",
       "    </tr>\n",
       "    <tr>\n",
       "      <th>4903</th>\n",
       "      <td>22</td>\n",
       "      <td>4903</td>\n",
       "      <td>Funny Games (1997)</td>\n",
       "      <td>4.5</td>\n",
       "      <td>3.841549</td>\n",
       "    </tr>\n",
       "    <tr>\n",
       "      <th>4724</th>\n",
       "      <td>22</td>\n",
       "      <td>4724</td>\n",
       "      <td>Umberto D. (1952)</td>\n",
       "      <td>4.5</td>\n",
       "      <td>1.000000</td>\n",
       "    </tr>\n",
       "    <tr>\n",
       "      <th>4860</th>\n",
       "      <td>22</td>\n",
       "      <td>4860</td>\n",
       "      <td>Pieces of April (2003)</td>\n",
       "      <td>4.5</td>\n",
       "      <td>3.504001</td>\n",
       "    </tr>\n",
       "    <tr>\n",
       "      <th>4739</th>\n",
       "      <td>22</td>\n",
       "      <td>4739</td>\n",
       "      <td>Tokyo Story (Tôkyô monogatari) (1953)</td>\n",
       "      <td>4.5</td>\n",
       "      <td>4.000000</td>\n",
       "    </tr>\n",
       "    <tr>\n",
       "      <th>4693</th>\n",
       "      <td>22</td>\n",
       "      <td>4693</td>\n",
       "      <td>Pirates of the Caribbean: The Curse of the Bla...</td>\n",
       "      <td>4.5</td>\n",
       "      <td>3.699158</td>\n",
       "    </tr>\n",
       "    <tr>\n",
       "      <th>4603</th>\n",
       "      <td>22</td>\n",
       "      <td>4603</td>\n",
       "      <td>Matrix Reloaded, The (2003)</td>\n",
       "      <td>4.5</td>\n",
       "      <td>2.899655</td>\n",
       "    </tr>\n",
       "    <tr>\n",
       "      <th>4424</th>\n",
       "      <td>22</td>\n",
       "      <td>4424</td>\n",
       "      <td>King of Comedy, The (1983)</td>\n",
       "      <td>4.5</td>\n",
       "      <td>4.085839</td>\n",
       "    </tr>\n",
       "    <tr>\n",
       "      <th>4422</th>\n",
       "      <td>22</td>\n",
       "      <td>4422</td>\n",
       "      <td>Pianist, The (2002)</td>\n",
       "      <td>4.5</td>\n",
       "      <td>4.071338</td>\n",
       "    </tr>\n",
       "    <tr>\n",
       "      <th>3886</th>\n",
       "      <td>22</td>\n",
       "      <td>3886</td>\n",
       "      <td>Gosford Park (2001)</td>\n",
       "      <td>4.5</td>\n",
       "      <td>3.282681</td>\n",
       "    </tr>\n",
       "    <tr>\n",
       "      <th>3873</th>\n",
       "      <td>22</td>\n",
       "      <td>3873</td>\n",
       "      <td>Beautiful Mind, A (2001)</td>\n",
       "      <td>4.5</td>\n",
       "      <td>3.831154</td>\n",
       "    </tr>\n",
       "    <tr>\n",
       "      <th>5026</th>\n",
       "      <td>22</td>\n",
       "      <td>5026</td>\n",
       "      <td>Lord of the Rings: The Return of the King, The...</td>\n",
       "      <td>4.5</td>\n",
       "      <td>3.937102</td>\n",
       "    </tr>\n",
       "    <tr>\n",
       "      <th>4411</th>\n",
       "      <td>22</td>\n",
       "      <td>4411</td>\n",
       "      <td>My Neighbor Totoro (Tonari no Totoro) (1988)</td>\n",
       "      <td>4.5</td>\n",
       "      <td>4.146550</td>\n",
       "    </tr>\n",
       "    <tr>\n",
       "      <th>6383</th>\n",
       "      <td>22</td>\n",
       "      <td>6383</td>\n",
       "      <td>V for Vendetta (2006)</td>\n",
       "      <td>4.5</td>\n",
       "      <td>3.923828</td>\n",
       "    </tr>\n",
       "    <tr>\n",
       "      <th>6304</th>\n",
       "      <td>22</td>\n",
       "      <td>6304</td>\n",
       "      <td>Match Point (2005)</td>\n",
       "      <td>4.5</td>\n",
       "      <td>4.099785</td>\n",
       "    </tr>\n",
       "    <tr>\n",
       "      <th>6260</th>\n",
       "      <td>22</td>\n",
       "      <td>6260</td>\n",
       "      <td>Good Night, and Good Luck. (2005)</td>\n",
       "      <td>4.5</td>\n",
       "      <td>4.293930</td>\n",
       "    </tr>\n",
       "    <tr>\n",
       "      <th>6257</th>\n",
       "      <td>22</td>\n",
       "      <td>6257</td>\n",
       "      <td>Brokeback Mountain (2005)</td>\n",
       "      <td>4.5</td>\n",
       "      <td>3.402171</td>\n",
       "    </tr>\n",
       "    <tr>\n",
       "      <th>6221</th>\n",
       "      <td>22</td>\n",
       "      <td>6221</td>\n",
       "      <td>Everything Is Illuminated (2005)</td>\n",
       "      <td>4.5</td>\n",
       "      <td>2.876879</td>\n",
       "    </tr>\n",
       "    <tr>\n",
       "      <th>5987</th>\n",
       "      <td>22</td>\n",
       "      <td>5987</td>\n",
       "      <td>Hotel Rwanda (2004)</td>\n",
       "      <td>4.5</td>\n",
       "      <td>3.987494</td>\n",
       "    </tr>\n",
       "    <tr>\n",
       "      <th>5953</th>\n",
       "      <td>22</td>\n",
       "      <td>5953</td>\n",
       "      <td>Sea Inside, The (Mar adentro) (2004)</td>\n",
       "      <td>4.5</td>\n",
       "      <td>4.000000</td>\n",
       "    </tr>\n",
       "    <tr>\n",
       "      <th>5850</th>\n",
       "      <td>22</td>\n",
       "      <td>5850</td>\n",
       "      <td>Hearts of Darkness: A Filmmakers Apocalypse (1...</td>\n",
       "      <td>4.5</td>\n",
       "      <td>4.187395</td>\n",
       "    </tr>\n",
       "    <tr>\n",
       "      <th>5665</th>\n",
       "      <td>22</td>\n",
       "      <td>5665</td>\n",
       "      <td>Steamboat Bill, Jr. (1928)</td>\n",
       "      <td>4.5</td>\n",
       "      <td>4.000000</td>\n",
       "    </tr>\n",
       "    <tr>\n",
       "      <th>5633</th>\n",
       "      <td>22</td>\n",
       "      <td>5633</td>\n",
       "      <td>Finding Neverland (2004)</td>\n",
       "      <td>4.5</td>\n",
       "      <td>3.621317</td>\n",
       "    </tr>\n",
       "    <tr>\n",
       "      <th>5625</th>\n",
       "      <td>22</td>\n",
       "      <td>5625</td>\n",
       "      <td>Ray (2004)</td>\n",
       "      <td>4.5</td>\n",
       "      <td>3.914375</td>\n",
       "    </tr>\n",
       "    <tr>\n",
       "      <th>5583</th>\n",
       "      <td>22</td>\n",
       "      <td>5583</td>\n",
       "      <td>Motorcycle Diaries, The (Diarios de motociclet...</td>\n",
       "      <td>4.5</td>\n",
       "      <td>3.591149</td>\n",
       "    </tr>\n",
       "    <tr>\n",
       "      <th>5405</th>\n",
       "      <td>22</td>\n",
       "      <td>5405</td>\n",
       "      <td>Napoleon Dynamite (2004)</td>\n",
       "      <td>4.5</td>\n",
       "      <td>3.325688</td>\n",
       "    </tr>\n",
       "    <tr>\n",
       "      <th>5323</th>\n",
       "      <td>22</td>\n",
       "      <td>5323</td>\n",
       "      <td>Mean Streets (1973)</td>\n",
       "      <td>4.5</td>\n",
       "      <td>4.220468</td>\n",
       "    </tr>\n",
       "    <tr>\n",
       "      <th>5132</th>\n",
       "      <td>22</td>\n",
       "      <td>5132</td>\n",
       "      <td>Dogville (2003)</td>\n",
       "      <td>4.5</td>\n",
       "      <td>3.270972</td>\n",
       "    </tr>\n",
       "    <tr>\n",
       "      <th>5127</th>\n",
       "      <td>22</td>\n",
       "      <td>5127</td>\n",
       "      <td>Eternal Sunshine of the Spotless Mind (2004)</td>\n",
       "      <td>4.5</td>\n",
       "      <td>4.238095</td>\n",
       "    </tr>\n",
       "    <tr>\n",
       "      <th>4991</th>\n",
       "      <td>22</td>\n",
       "      <td>4991</td>\n",
       "      <td>Hero (Ying xiong) (2002)</td>\n",
       "      <td>4.5</td>\n",
       "      <td>4.038113</td>\n",
       "    </tr>\n",
       "    <tr>\n",
       "      <th>4241</th>\n",
       "      <td>22</td>\n",
       "      <td>4241</td>\n",
       "      <td>Heaven (2002)</td>\n",
       "      <td>4.5</td>\n",
       "      <td>4.500000</td>\n",
       "    </tr>\n",
       "    <tr>\n",
       "      <th>3987</th>\n",
       "      <td>22</td>\n",
       "      <td>3987</td>\n",
       "      <td>Magnificent Ambersons, The (1942)</td>\n",
       "      <td>4.5</td>\n",
       "      <td>3.886422</td>\n",
       "    </tr>\n",
       "    <tr>\n",
       "      <th>4262</th>\n",
       "      <td>22</td>\n",
       "      <td>4262</td>\n",
       "      <td>Punch-Drunk Love (2002)</td>\n",
       "      <td>4.5</td>\n",
       "      <td>3.366060</td>\n",
       "    </tr>\n",
       "    <tr>\n",
       "      <th>4879</th>\n",
       "      <td>22</td>\n",
       "      <td>4879</td>\n",
       "      <td>Shattered Glass (2003)</td>\n",
       "      <td>4.0</td>\n",
       "      <td>3.449657</td>\n",
       "    </tr>\n",
       "    <tr>\n",
       "      <th>4934</th>\n",
       "      <td>22</td>\n",
       "      <td>4934</td>\n",
       "      <td>Night of the Hunter, The (1955)</td>\n",
       "      <td>4.0</td>\n",
       "      <td>4.411722</td>\n",
       "    </tr>\n",
       "    <tr>\n",
       "      <th>4098</th>\n",
       "      <td>22</td>\n",
       "      <td>4098</td>\n",
       "      <td>My Beautiful Laundrette (1985)</td>\n",
       "      <td>4.0</td>\n",
       "      <td>4.269830</td>\n",
       "    </tr>\n",
       "    <tr>\n",
       "      <th>4912</th>\n",
       "      <td>22</td>\n",
       "      <td>4912</td>\n",
       "      <td>Cabinet of Dr. Caligari, The (Cabinet des Dr. ...</td>\n",
       "      <td>4.0</td>\n",
       "      <td>4.081596</td>\n",
       "    </tr>\n",
       "  </tbody>\n",
       "</table>\n",
       "</div>"
      ],
      "text/plain": [
       "      userId  movieId                                              title  \\\n",
       "4417      22     4417                         Catch Me If You Can (2002)   \n",
       "5623      22     5623                                    Undertow (2004)   \n",
       "4419      22     4419                                  Hours, The (2002)   \n",
       "4432      22     4432                City of God (Cidade de Deus) (2002)   \n",
       "4371      22     4371                                  Adaptation (2002)   \n",
       "4008      22     4008     And Your Mother Too (Y tu mamá también) (2001)   \n",
       "6132      22     6132                                       Crash (2004)   \n",
       "5016      22     5016               Stolen Kisses (Baisers volés) (1968)   \n",
       "5761      22     5761                                        Duel (1971)   \n",
       "4875      22     4875               Unvanquished, The (Aparajito) (1957)   \n",
       "4855      22     4855                           Kill Bill: Vol. 1 (2003)   \n",
       "4974      22     4974                                  Stagecoach (1939)   \n",
       "4972      22     4972                                   Red River (1948)   \n",
       "4966      22     4966  Aguirre: The Wrath of God (Aguirre, der Zorn G...   \n",
       "4903      22     4903                                 Funny Games (1997)   \n",
       "4724      22     4724                                  Umberto D. (1952)   \n",
       "4860      22     4860                             Pieces of April (2003)   \n",
       "4739      22     4739              Tokyo Story (Tôkyô monogatari) (1953)   \n",
       "4693      22     4693  Pirates of the Caribbean: The Curse of the Bla...   \n",
       "4603      22     4603                        Matrix Reloaded, The (2003)   \n",
       "4424      22     4424                         King of Comedy, The (1983)   \n",
       "4422      22     4422                                Pianist, The (2002)   \n",
       "3886      22     3886                                Gosford Park (2001)   \n",
       "3873      22     3873                           Beautiful Mind, A (2001)   \n",
       "5026      22     5026  Lord of the Rings: The Return of the King, The...   \n",
       "4411      22     4411       My Neighbor Totoro (Tonari no Totoro) (1988)   \n",
       "6383      22     6383                              V for Vendetta (2006)   \n",
       "6304      22     6304                                 Match Point (2005)   \n",
       "6260      22     6260                  Good Night, and Good Luck. (2005)   \n",
       "6257      22     6257                          Brokeback Mountain (2005)   \n",
       "6221      22     6221                   Everything Is Illuminated (2005)   \n",
       "5987      22     5987                                Hotel Rwanda (2004)   \n",
       "5953      22     5953               Sea Inside, The (Mar adentro) (2004)   \n",
       "5850      22     5850  Hearts of Darkness: A Filmmakers Apocalypse (1...   \n",
       "5665      22     5665                         Steamboat Bill, Jr. (1928)   \n",
       "5633      22     5633                           Finding Neverland (2004)   \n",
       "5625      22     5625                                         Ray (2004)   \n",
       "5583      22     5583  Motorcycle Diaries, The (Diarios de motociclet...   \n",
       "5405      22     5405                           Napoleon Dynamite (2004)   \n",
       "5323      22     5323                                Mean Streets (1973)   \n",
       "5132      22     5132                                    Dogville (2003)   \n",
       "5127      22     5127       Eternal Sunshine of the Spotless Mind (2004)   \n",
       "4991      22     4991                           Hero (Ying xiong) (2002)   \n",
       "4241      22     4241                                      Heaven (2002)   \n",
       "3987      22     3987                  Magnificent Ambersons, The (1942)   \n",
       "4262      22     4262                            Punch-Drunk Love (2002)   \n",
       "4879      22     4879                             Shattered Glass (2003)   \n",
       "4934      22     4934                    Night of the Hunter, The (1955)   \n",
       "4098      22     4098                     My Beautiful Laundrette (1985)   \n",
       "4912      22     4912  Cabinet of Dr. Caligari, The (Cabinet des Dr. ...   \n",
       "\n",
       "      rating  predRating  \n",
       "4417     5.0    3.770959  \n",
       "5623     5.0    1.000000  \n",
       "4419     5.0    3.367638  \n",
       "4432     5.0    4.162015  \n",
       "4371     5.0    4.156001  \n",
       "4008     5.0    3.519416  \n",
       "6132     5.0    3.689451  \n",
       "5016     5.0    4.000000  \n",
       "5761     5.0    4.000000  \n",
       "4875     5.0    1.000000  \n",
       "4855     5.0    3.675404  \n",
       "4974     4.5    4.000000  \n",
       "4972     4.5    1.000000  \n",
       "4966     4.5    4.223189  \n",
       "4903     4.5    3.841549  \n",
       "4724     4.5    1.000000  \n",
       "4860     4.5    3.504001  \n",
       "4739     4.5    4.000000  \n",
       "4693     4.5    3.699158  \n",
       "4603     4.5    2.899655  \n",
       "4424     4.5    4.085839  \n",
       "4422     4.5    4.071338  \n",
       "3886     4.5    3.282681  \n",
       "3873     4.5    3.831154  \n",
       "5026     4.5    3.937102  \n",
       "4411     4.5    4.146550  \n",
       "6383     4.5    3.923828  \n",
       "6304     4.5    4.099785  \n",
       "6260     4.5    4.293930  \n",
       "6257     4.5    3.402171  \n",
       "6221     4.5    2.876879  \n",
       "5987     4.5    3.987494  \n",
       "5953     4.5    4.000000  \n",
       "5850     4.5    4.187395  \n",
       "5665     4.5    4.000000  \n",
       "5633     4.5    3.621317  \n",
       "5625     4.5    3.914375  \n",
       "5583     4.5    3.591149  \n",
       "5405     4.5    3.325688  \n",
       "5323     4.5    4.220468  \n",
       "5132     4.5    3.270972  \n",
       "5127     4.5    4.238095  \n",
       "4991     4.5    4.038113  \n",
       "4241     4.5    4.500000  \n",
       "3987     4.5    3.886422  \n",
       "4262     4.5    3.366060  \n",
       "4879     4.0    3.449657  \n",
       "4934     4.0    4.411722  \n",
       "4098     4.0    4.269830  \n",
       "4912     4.0    4.081596  "
      ]
     },
<<<<<<< HEAD
     "execution_count": 19,
=======
     "execution_count": 26,
>>>>>>> e90629d3edcaa73b38bed2e1883ecfb131929079
     "metadata": {},
     "output_type": "execute_result"
    }
   ],
   "source": [
    "# 可給定user id細看每個user的rating與model預測效果\n",
    "# valid user id from 0 ~ 670\n",
    "uid = 22\n",
    "recomm = model.predict([uid]).ravel()\n",
    "recommDf = pd.DataFrame(data={\n",
    "              \"userId\": uid,\n",
    "              \"movieId\": range(len(recomm)),\n",
    "              \"title\": midMap[np.arange(len(recomm))].values,\n",
    "              \"rating\": teRatingMat[uid, range(len(recomm))],\n",
    "              \"predRating\": recomm},\n",
    "             columns=(\"userId\", \"movieId\", \"title\", \"rating\", \"predRating\"))\n",
    "# ascending 可以調整True or False觀察結果\n",
    "recommDf.query(\"rating != 0\").sort_values(\"rating\", ascending=False).head(50)"
   ]
  },
  {
   "cell_type": "markdown",
   "metadata": {},
   "source": [
    "### Model導向評估(Precision)"
   ]
  },
  {
   "cell_type": "code",
<<<<<<< HEAD
   "execution_count": 20,
=======
   "execution_count": 27,
>>>>>>> e90629d3edcaa73b38bed2e1883ecfb131929079
   "metadata": {
    "scrolled": true
   },
   "outputs": [
    {
     "name": "stdout",
     "output_type": "stream",
     "text": [
      "recommend for user 22\n"
     ]
    },
    {
     "data": {
      "text/html": [
       "<div>\n",
       "<style>\n",
       "    .dataframe thead tr:only-child th {\n",
       "        text-align: right;\n",
       "    }\n",
       "\n",
       "    .dataframe thead th {\n",
       "        text-align: left;\n",
       "    }\n",
       "\n",
       "    .dataframe tbody tr th {\n",
       "        vertical-align: top;\n",
       "    }\n",
       "</style>\n",
       "<table border=\"1\" class=\"dataframe\">\n",
       "  <thead>\n",
       "    <tr style=\"text-align: right;\">\n",
       "      <th></th>\n",
       "      <th>userId</th>\n",
       "      <th>movieId</th>\n",
       "      <th>title</th>\n",
       "      <th>rating</th>\n",
       "      <th>predRating</th>\n",
       "    </tr>\n",
       "  </thead>\n",
       "  <tbody>\n",
       "    <tr>\n",
       "      <th>4910</th>\n",
       "      <td>22</td>\n",
       "      <td>4910</td>\n",
       "      <td>Passion of Joan of Arc, The (Passion de Jeanne...</td>\n",
       "      <td>4.0</td>\n",
       "      <td>5.000000</td>\n",
       "    </tr>\n",
       "    <tr>\n",
       "      <th>4751</th>\n",
       "      <td>22</td>\n",
       "      <td>4751</td>\n",
       "      <td>Ikiru (1952)</td>\n",
       "      <td>4.0</td>\n",
       "      <td>5.000000</td>\n",
       "    </tr>\n",
       "    <tr>\n",
       "      <th>5369</th>\n",
       "      <td>22</td>\n",
       "      <td>5369</td>\n",
       "      <td>Viridiana (1961)</td>\n",
       "      <td>3.5</td>\n",
       "      <td>4.872026</td>\n",
       "    </tr>\n",
       "    <tr>\n",
       "      <th>6167</th>\n",
       "      <td>22</td>\n",
       "      <td>6167</td>\n",
       "      <td>Edukators, The (Die Fetten Jahre sind vorbei) ...</td>\n",
       "      <td>3.5</td>\n",
       "      <td>4.777850</td>\n",
       "    </tr>\n",
       "    <tr>\n",
       "      <th>4109</th>\n",
       "      <td>22</td>\n",
       "      <td>4109</td>\n",
       "      <td>Last Waltz, The (1978)</td>\n",
       "      <td>3.5</td>\n",
       "      <td>4.660428</td>\n",
       "    </tr>\n",
       "    <tr>\n",
       "      <th>3957</th>\n",
       "      <td>22</td>\n",
       "      <td>3957</td>\n",
       "      <td>Bad and the Beautiful, The (1952)</td>\n",
       "      <td>4.0</td>\n",
       "      <td>4.611701</td>\n",
       "    </tr>\n",
       "    <tr>\n",
       "      <th>5347</th>\n",
       "      <td>22</td>\n",
       "      <td>5347</td>\n",
       "      <td>Dolce Vita, La (1960)</td>\n",
       "      <td>3.5</td>\n",
       "      <td>4.512228</td>\n",
       "    </tr>\n",
       "    <tr>\n",
       "      <th>4529</th>\n",
       "      <td>22</td>\n",
       "      <td>4529</td>\n",
       "      <td>Europa Europa (Hitlerjunge Salomon) (1990)</td>\n",
       "      <td>4.0</td>\n",
       "      <td>4.511510</td>\n",
       "    </tr>\n",
       "    <tr>\n",
       "      <th>4738</th>\n",
       "      <td>22</td>\n",
       "      <td>4738</td>\n",
       "      <td>Code Unknown (Code inconnu: Récit incomplet de...</td>\n",
       "      <td>2.5</td>\n",
       "      <td>4.500000</td>\n",
       "    </tr>\n",
       "    <tr>\n",
       "      <th>5495</th>\n",
       "      <td>22</td>\n",
       "      <td>5495</td>\n",
       "      <td>Short Film About Killing, A (Krótki film o zab...</td>\n",
       "      <td>2.5</td>\n",
       "      <td>4.500000</td>\n",
       "    </tr>\n",
       "    <tr>\n",
       "      <th>4241</th>\n",
       "      <td>22</td>\n",
       "      <td>4241</td>\n",
       "      <td>Heaven (2002)</td>\n",
       "      <td>4.5</td>\n",
       "      <td>4.500000</td>\n",
       "    </tr>\n",
       "    <tr>\n",
       "      <th>4989</th>\n",
       "      <td>22</td>\n",
       "      <td>4989</td>\n",
       "      <td>Black Orpheus (Orfeu Negro) (1959)</td>\n",
       "      <td>4.0</td>\n",
       "      <td>4.500000</td>\n",
       "    </tr>\n",
       "    <tr>\n",
       "      <th>4934</th>\n",
       "      <td>22</td>\n",
       "      <td>4934</td>\n",
       "      <td>Night of the Hunter, The (1955)</td>\n",
       "      <td>4.0</td>\n",
       "      <td>4.411722</td>\n",
       "    </tr>\n",
       "    <tr>\n",
       "      <th>6042</th>\n",
       "      <td>22</td>\n",
       "      <td>6042</td>\n",
       "      <td>Howl's Moving Castle (Hauru no ugoku shiro) (2...</td>\n",
       "      <td>3.5</td>\n",
       "      <td>4.409582</td>\n",
       "    </tr>\n",
       "    <tr>\n",
       "      <th>4750</th>\n",
       "      <td>22</td>\n",
       "      <td>4750</td>\n",
       "      <td>Discreet Charm of the Bourgeoisie, The (Charme...</td>\n",
       "      <td>3.0</td>\n",
       "      <td>4.391790</td>\n",
       "    </tr>\n",
       "    <tr>\n",
       "      <th>4140</th>\n",
       "      <td>22</td>\n",
       "      <td>4140</td>\n",
       "      <td>Rabbit-Proof Fence (2002)</td>\n",
       "      <td>4.0</td>\n",
       "      <td>4.388493</td>\n",
       "    </tr>\n",
       "    <tr>\n",
       "      <th>6260</th>\n",
       "      <td>22</td>\n",
       "      <td>6260</td>\n",
       "      <td>Good Night, and Good Luck. (2005)</td>\n",
       "      <td>4.5</td>\n",
       "      <td>4.293930</td>\n",
       "    </tr>\n",
       "    <tr>\n",
       "      <th>4809</th>\n",
       "      <td>22</td>\n",
       "      <td>4809</td>\n",
       "      <td>All the President's Men (1976)</td>\n",
       "      <td>4.0</td>\n",
       "      <td>4.281179</td>\n",
       "    </tr>\n",
       "    <tr>\n",
       "      <th>4098</th>\n",
       "      <td>22</td>\n",
       "      <td>4098</td>\n",
       "      <td>My Beautiful Laundrette (1985)</td>\n",
       "      <td>4.0</td>\n",
       "      <td>4.269830</td>\n",
       "    </tr>\n",
       "    <tr>\n",
       "      <th>5127</th>\n",
       "      <td>22</td>\n",
       "      <td>5127</td>\n",
       "      <td>Eternal Sunshine of the Spotless Mind (2004)</td>\n",
       "      <td>4.5</td>\n",
       "      <td>4.238095</td>\n",
       "    </tr>\n",
       "    <tr>\n",
       "      <th>4815</th>\n",
       "      <td>22</td>\n",
       "      <td>4815</td>\n",
       "      <td>Boyz N the Hood (1991)</td>\n",
       "      <td>3.5</td>\n",
       "      <td>4.231682</td>\n",
       "    </tr>\n",
       "    <tr>\n",
       "      <th>4966</th>\n",
       "      <td>22</td>\n",
       "      <td>4966</td>\n",
       "      <td>Aguirre: The Wrath of God (Aguirre, der Zorn G...</td>\n",
       "      <td>4.5</td>\n",
       "      <td>4.223189</td>\n",
       "    </tr>\n",
       "    <tr>\n",
       "      <th>5323</th>\n",
       "      <td>22</td>\n",
       "      <td>5323</td>\n",
       "      <td>Mean Streets (1973)</td>\n",
       "      <td>4.5</td>\n",
       "      <td>4.220468</td>\n",
       "    </tr>\n",
       "    <tr>\n",
       "      <th>3973</th>\n",
       "      <td>22</td>\n",
       "      <td>3973</td>\n",
       "      <td>Wild Strawberries (Smultronstället) (1957)</td>\n",
       "      <td>4.0</td>\n",
       "      <td>4.205858</td>\n",
       "    </tr>\n",
       "    <tr>\n",
       "      <th>5850</th>\n",
       "      <td>22</td>\n",
       "      <td>5850</td>\n",
       "      <td>Hearts of Darkness: A Filmmakers Apocalypse (1...</td>\n",
       "      <td>4.5</td>\n",
       "      <td>4.187395</td>\n",
       "    </tr>\n",
       "    <tr>\n",
       "      <th>4432</th>\n",
       "      <td>22</td>\n",
       "      <td>4432</td>\n",
       "      <td>City of God (Cidade de Deus) (2002)</td>\n",
       "      <td>5.0</td>\n",
       "      <td>4.162015</td>\n",
       "    </tr>\n",
       "    <tr>\n",
       "      <th>4371</th>\n",
       "      <td>22</td>\n",
       "      <td>4371</td>\n",
       "      <td>Adaptation (2002)</td>\n",
       "      <td>5.0</td>\n",
       "      <td>4.156001</td>\n",
       "    </tr>\n",
       "    <tr>\n",
       "      <th>4411</th>\n",
       "      <td>22</td>\n",
       "      <td>4411</td>\n",
       "      <td>My Neighbor Totoro (Tonari no Totoro) (1988)</td>\n",
       "      <td>4.5</td>\n",
       "      <td>4.146550</td>\n",
       "    </tr>\n",
       "    <tr>\n",
       "      <th>4892</th>\n",
       "      <td>22</td>\n",
       "      <td>4892</td>\n",
       "      <td>Barbarian Invasions, The (Les invasions barbar...</td>\n",
       "      <td>3.0</td>\n",
       "      <td>4.113996</td>\n",
       "    </tr>\n",
       "    <tr>\n",
       "      <th>6304</th>\n",
       "      <td>22</td>\n",
       "      <td>6304</td>\n",
       "      <td>Match Point (2005)</td>\n",
       "      <td>4.5</td>\n",
       "      <td>4.099785</td>\n",
       "    </tr>\n",
       "    <tr>\n",
       "      <th>...</th>\n",
       "      <td>...</td>\n",
       "      <td>...</td>\n",
       "      <td>...</td>\n",
       "      <td>...</td>\n",
       "      <td>...</td>\n",
       "    </tr>\n",
       "    <tr>\n",
       "      <th>5219</th>\n",
       "      <td>22</td>\n",
       "      <td>5219</td>\n",
       "      <td>Pierrot le fou (1965)</td>\n",
       "      <td>3.5</td>\n",
       "      <td>1.000000</td>\n",
       "    </tr>\n",
       "    <tr>\n",
       "      <th>4428</th>\n",
       "      <td>22</td>\n",
       "      <td>4428</td>\n",
       "      <td>Son, The (Le fils) (2002)</td>\n",
       "      <td>3.0</td>\n",
       "      <td>1.000000</td>\n",
       "    </tr>\n",
       "    <tr>\n",
       "      <th>5222</th>\n",
       "      <td>22</td>\n",
       "      <td>5222</td>\n",
       "      <td>Nostalghia (1983)</td>\n",
       "      <td>1.0</td>\n",
       "      <td>1.000000</td>\n",
       "    </tr>\n",
       "    <tr>\n",
       "      <th>4268</th>\n",
       "      <td>22</td>\n",
       "      <td>4268</td>\n",
       "      <td>Grey Zone, The (2001)</td>\n",
       "      <td>3.5</td>\n",
       "      <td>1.000000</td>\n",
       "    </tr>\n",
       "    <tr>\n",
       "      <th>5661</th>\n",
       "      <td>22</td>\n",
       "      <td>5661</td>\n",
       "      <td>Greed (1924)</td>\n",
       "      <td>3.5</td>\n",
       "      <td>1.000000</td>\n",
       "    </tr>\n",
       "    <tr>\n",
       "      <th>6341</th>\n",
       "      <td>22</td>\n",
       "      <td>6341</td>\n",
       "      <td>Hoodwinked! (2005)</td>\n",
       "      <td>3.0</td>\n",
       "      <td>1.000000</td>\n",
       "    </tr>\n",
       "    <tr>\n",
       "      <th>4719</th>\n",
       "      <td>22</td>\n",
       "      <td>4719</td>\n",
       "      <td>Accattone (1961)</td>\n",
       "      <td>3.5</td>\n",
       "      <td>1.000000</td>\n",
       "    </tr>\n",
       "    <tr>\n",
       "      <th>6319</th>\n",
       "      <td>22</td>\n",
       "      <td>6319</td>\n",
       "      <td>Transamerica (2005)</td>\n",
       "      <td>4.0</td>\n",
       "      <td>1.000000</td>\n",
       "    </tr>\n",
       "    <tr>\n",
       "      <th>5674</th>\n",
       "      <td>22</td>\n",
       "      <td>5674</td>\n",
       "      <td>Atalante, L' (1934)</td>\n",
       "      <td>2.5</td>\n",
       "      <td>1.000000</td>\n",
       "    </tr>\n",
       "    <tr>\n",
       "      <th>6315</th>\n",
       "      <td>22</td>\n",
       "      <td>6315</td>\n",
       "      <td>Three Burials of Melquiades Estrada, The (2006)</td>\n",
       "      <td>3.5</td>\n",
       "      <td>1.000000</td>\n",
       "    </tr>\n",
       "    <tr>\n",
       "      <th>5227</th>\n",
       "      <td>22</td>\n",
       "      <td>5227</td>\n",
       "      <td>Zorba the Greek (Alexis Zorbas) (1964)</td>\n",
       "      <td>4.0</td>\n",
       "      <td>1.000000</td>\n",
       "    </tr>\n",
       "    <tr>\n",
       "      <th>5291</th>\n",
       "      <td>22</td>\n",
       "      <td>5291</td>\n",
       "      <td>Summer with Monika (Sommaren med Monika) (1953)</td>\n",
       "      <td>3.0</td>\n",
       "      <td>1.000000</td>\n",
       "    </tr>\n",
       "    <tr>\n",
       "      <th>5725</th>\n",
       "      <td>22</td>\n",
       "      <td>5725</td>\n",
       "      <td>Pickpocket (1959)</td>\n",
       "      <td>4.0</td>\n",
       "      <td>1.000000</td>\n",
       "    </tr>\n",
       "    <tr>\n",
       "      <th>5320</th>\n",
       "      <td>22</td>\n",
       "      <td>5320</td>\n",
       "      <td>Dark Water (Honogurai mizu no soko kara) (2002)</td>\n",
       "      <td>3.5</td>\n",
       "      <td>1.000000</td>\n",
       "    </tr>\n",
       "    <tr>\n",
       "      <th>4724</th>\n",
       "      <td>22</td>\n",
       "      <td>4724</td>\n",
       "      <td>Umberto D. (1952)</td>\n",
       "      <td>4.5</td>\n",
       "      <td>1.000000</td>\n",
       "    </tr>\n",
       "    <tr>\n",
       "      <th>4972</th>\n",
       "      <td>22</td>\n",
       "      <td>4972</td>\n",
       "      <td>Red River (1948)</td>\n",
       "      <td>4.5</td>\n",
       "      <td>1.000000</td>\n",
       "    </tr>\n",
       "    <tr>\n",
       "      <th>4216</th>\n",
       "      <td>22</td>\n",
       "      <td>4216</td>\n",
       "      <td>Tabu: A Story of the South Seas (1931)</td>\n",
       "      <td>3.5</td>\n",
       "      <td>1.000000</td>\n",
       "    </tr>\n",
       "    <tr>\n",
       "      <th>4875</th>\n",
       "      <td>22</td>\n",
       "      <td>4875</td>\n",
       "      <td>Unvanquished, The (Aparajito) (1957)</td>\n",
       "      <td>5.0</td>\n",
       "      <td>1.000000</td>\n",
       "    </tr>\n",
       "    <tr>\n",
       "      <th>4100</th>\n",
       "      <td>22</td>\n",
       "      <td>4100</td>\n",
       "      <td>Cranes Are Flying, The (Letyat zhuravli) (1957)</td>\n",
       "      <td>3.5</td>\n",
       "      <td>1.000000</td>\n",
       "    </tr>\n",
       "    <tr>\n",
       "      <th>5389</th>\n",
       "      <td>22</td>\n",
       "      <td>5389</td>\n",
       "      <td>Black Narcissus (1947)</td>\n",
       "      <td>3.5</td>\n",
       "      <td>1.000000</td>\n",
       "    </tr>\n",
       "    <tr>\n",
       "      <th>6258</th>\n",
       "      <td>22</td>\n",
       "      <td>6258</td>\n",
       "      <td>Elizabethtown (2005)</td>\n",
       "      <td>4.0</td>\n",
       "      <td>1.000000</td>\n",
       "    </tr>\n",
       "    <tr>\n",
       "      <th>4153</th>\n",
       "      <td>22</td>\n",
       "      <td>4153</td>\n",
       "      <td>The Importance of Being Earnest (1952)</td>\n",
       "      <td>3.0</td>\n",
       "      <td>1.000000</td>\n",
       "    </tr>\n",
       "    <tr>\n",
       "      <th>6009</th>\n",
       "      <td>22</td>\n",
       "      <td>6009</td>\n",
       "      <td>Stander (2003)</td>\n",
       "      <td>4.0</td>\n",
       "      <td>1.000000</td>\n",
       "    </tr>\n",
       "    <tr>\n",
       "      <th>6118</th>\n",
       "      <td>22</td>\n",
       "      <td>6118</td>\n",
       "      <td>Ivan's Childhood (a.k.a. My Name is Ivan) (Iva...</td>\n",
       "      <td>4.0</td>\n",
       "      <td>1.000000</td>\n",
       "    </tr>\n",
       "    <tr>\n",
       "      <th>6239</th>\n",
       "      <td>22</td>\n",
       "      <td>6239</td>\n",
       "      <td>Oliver Twist (2005)</td>\n",
       "      <td>3.0</td>\n",
       "      <td>1.000000</td>\n",
       "    </tr>\n",
       "    <tr>\n",
       "      <th>4629</th>\n",
       "      <td>22</td>\n",
       "      <td>4629</td>\n",
       "      <td>Intervista (1987)</td>\n",
       "      <td>1.5</td>\n",
       "      <td>1.000000</td>\n",
       "    </tr>\n",
       "    <tr>\n",
       "      <th>4908</th>\n",
       "      <td>22</td>\n",
       "      <td>4908</td>\n",
       "      <td>Forbidden Games (Jeux interdits) (1952)</td>\n",
       "      <td>2.0</td>\n",
       "      <td>1.000000</td>\n",
       "    </tr>\n",
       "    <tr>\n",
       "      <th>4622</th>\n",
       "      <td>22</td>\n",
       "      <td>4622</td>\n",
       "      <td>White Sheik, The (Sceicco bianco, Lo) (1952)</td>\n",
       "      <td>3.5</td>\n",
       "      <td>1.000000</td>\n",
       "    </tr>\n",
       "    <tr>\n",
       "      <th>4907</th>\n",
       "      <td>22</td>\n",
       "      <td>4907</td>\n",
       "      <td>Ordet (Word, The) (1955)</td>\n",
       "      <td>2.5</td>\n",
       "      <td>1.000000</td>\n",
       "    </tr>\n",
       "    <tr>\n",
       "      <th>5191</th>\n",
       "      <td>22</td>\n",
       "      <td>5191</td>\n",
       "      <td>Samouraï, Le (Godson, The) (1967)</td>\n",
       "      <td>4.0</td>\n",
       "      <td>1.000000</td>\n",
       "    </tr>\n",
       "  </tbody>\n",
       "</table>\n",
       "<p>218 rows × 5 columns</p>\n",
       "</div>"
      ],
      "text/plain": [
       "      userId  movieId                                              title  \\\n",
       "4910      22     4910  Passion of Joan of Arc, The (Passion de Jeanne...   \n",
       "4751      22     4751                                       Ikiru (1952)   \n",
       "5369      22     5369                                   Viridiana (1961)   \n",
       "6167      22     6167  Edukators, The (Die Fetten Jahre sind vorbei) ...   \n",
       "4109      22     4109                             Last Waltz, The (1978)   \n",
       "3957      22     3957                  Bad and the Beautiful, The (1952)   \n",
       "5347      22     5347                              Dolce Vita, La (1960)   \n",
       "4529      22     4529         Europa Europa (Hitlerjunge Salomon) (1990)   \n",
       "4738      22     4738  Code Unknown (Code inconnu: Récit incomplet de...   \n",
       "5495      22     5495  Short Film About Killing, A (Krótki film o zab...   \n",
       "4241      22     4241                                      Heaven (2002)   \n",
       "4989      22     4989                 Black Orpheus (Orfeu Negro) (1959)   \n",
       "4934      22     4934                    Night of the Hunter, The (1955)   \n",
       "6042      22     6042  Howl's Moving Castle (Hauru no ugoku shiro) (2...   \n",
       "4750      22     4750  Discreet Charm of the Bourgeoisie, The (Charme...   \n",
       "4140      22     4140                          Rabbit-Proof Fence (2002)   \n",
       "6260      22     6260                  Good Night, and Good Luck. (2005)   \n",
       "4809      22     4809                     All the President's Men (1976)   \n",
       "4098      22     4098                     My Beautiful Laundrette (1985)   \n",
       "5127      22     5127       Eternal Sunshine of the Spotless Mind (2004)   \n",
       "4815      22     4815                             Boyz N the Hood (1991)   \n",
       "4966      22     4966  Aguirre: The Wrath of God (Aguirre, der Zorn G...   \n",
       "5323      22     5323                                Mean Streets (1973)   \n",
       "3973      22     3973         Wild Strawberries (Smultronstället) (1957)   \n",
       "5850      22     5850  Hearts of Darkness: A Filmmakers Apocalypse (1...   \n",
       "4432      22     4432                City of God (Cidade de Deus) (2002)   \n",
       "4371      22     4371                                  Adaptation (2002)   \n",
       "4411      22     4411       My Neighbor Totoro (Tonari no Totoro) (1988)   \n",
       "4892      22     4892  Barbarian Invasions, The (Les invasions barbar...   \n",
       "6304      22     6304                                 Match Point (2005)   \n",
       "...      ...      ...                                                ...   \n",
       "5219      22     5219                              Pierrot le fou (1965)   \n",
       "4428      22     4428                          Son, The (Le fils) (2002)   \n",
       "5222      22     5222                                  Nostalghia (1983)   \n",
       "4268      22     4268                              Grey Zone, The (2001)   \n",
       "5661      22     5661                                       Greed (1924)   \n",
       "6341      22     6341                                 Hoodwinked! (2005)   \n",
       "4719      22     4719                                   Accattone (1961)   \n",
       "6319      22     6319                                Transamerica (2005)   \n",
       "5674      22     5674                                Atalante, L' (1934)   \n",
       "6315      22     6315    Three Burials of Melquiades Estrada, The (2006)   \n",
       "5227      22     5227             Zorba the Greek (Alexis Zorbas) (1964)   \n",
       "5291      22     5291    Summer with Monika (Sommaren med Monika) (1953)   \n",
       "5725      22     5725                                  Pickpocket (1959)   \n",
       "5320      22     5320    Dark Water (Honogurai mizu no soko kara) (2002)   \n",
       "4724      22     4724                                  Umberto D. (1952)   \n",
       "4972      22     4972                                   Red River (1948)   \n",
       "4216      22     4216             Tabu: A Story of the South Seas (1931)   \n",
       "4875      22     4875               Unvanquished, The (Aparajito) (1957)   \n",
       "4100      22     4100    Cranes Are Flying, The (Letyat zhuravli) (1957)   \n",
       "5389      22     5389                             Black Narcissus (1947)   \n",
       "6258      22     6258                               Elizabethtown (2005)   \n",
       "4153      22     4153             The Importance of Being Earnest (1952)   \n",
       "6009      22     6009                                     Stander (2003)   \n",
       "6118      22     6118  Ivan's Childhood (a.k.a. My Name is Ivan) (Iva...   \n",
       "6239      22     6239                                Oliver Twist (2005)   \n",
       "4629      22     4629                                  Intervista (1987)   \n",
       "4908      22     4908            Forbidden Games (Jeux interdits) (1952)   \n",
       "4622      22     4622       White Sheik, The (Sceicco bianco, Lo) (1952)   \n",
       "4907      22     4907                           Ordet (Word, The) (1955)   \n",
       "5191      22     5191                  Samouraï, Le (Godson, The) (1967)   \n",
       "\n",
       "      rating  predRating  \n",
       "4910     4.0    5.000000  \n",
       "4751     4.0    5.000000  \n",
       "5369     3.5    4.872026  \n",
       "6167     3.5    4.777850  \n",
       "4109     3.5    4.660428  \n",
       "3957     4.0    4.611701  \n",
       "5347     3.5    4.512228  \n",
       "4529     4.0    4.511510  \n",
       "4738     2.5    4.500000  \n",
       "5495     2.5    4.500000  \n",
       "4241     4.5    4.500000  \n",
       "4989     4.0    4.500000  \n",
       "4934     4.0    4.411722  \n",
       "6042     3.5    4.409582  \n",
       "4750     3.0    4.391790  \n",
       "4140     4.0    4.388493  \n",
       "6260     4.5    4.293930  \n",
       "4809     4.0    4.281179  \n",
       "4098     4.0    4.269830  \n",
       "5127     4.5    4.238095  \n",
       "4815     3.5    4.231682  \n",
       "4966     4.5    4.223189  \n",
       "5323     4.5    4.220468  \n",
       "3973     4.0    4.205858  \n",
       "5850     4.5    4.187395  \n",
       "4432     5.0    4.162015  \n",
       "4371     5.0    4.156001  \n",
       "4411     4.5    4.146550  \n",
       "4892     3.0    4.113996  \n",
       "6304     4.5    4.099785  \n",
       "...      ...         ...  \n",
       "5219     3.5    1.000000  \n",
       "4428     3.0    1.000000  \n",
       "5222     1.0    1.000000  \n",
       "4268     3.5    1.000000  \n",
       "5661     3.5    1.000000  \n",
       "6341     3.0    1.000000  \n",
       "4719     3.5    1.000000  \n",
       "6319     4.0    1.000000  \n",
       "5674     2.5    1.000000  \n",
       "6315     3.5    1.000000  \n",
       "5227     4.0    1.000000  \n",
       "5291     3.0    1.000000  \n",
       "5725     4.0    1.000000  \n",
       "5320     3.5    1.000000  \n",
       "4724     4.5    1.000000  \n",
       "4972     4.5    1.000000  \n",
       "4216     3.5    1.000000  \n",
       "4875     5.0    1.000000  \n",
       "4100     3.5    1.000000  \n",
       "5389     3.5    1.000000  \n",
       "6258     4.0    1.000000  \n",
       "4153     3.0    1.000000  \n",
       "6009     4.0    1.000000  \n",
       "6118     4.0    1.000000  \n",
       "6239     3.0    1.000000  \n",
       "4629     1.5    1.000000  \n",
       "4908     2.0    1.000000  \n",
       "4622     3.5    1.000000  \n",
       "4907     2.5    1.000000  \n",
       "5191     4.0    1.000000  \n",
       "\n",
       "[218 rows x 5 columns]"
      ]
     },
<<<<<<< HEAD
     "execution_count": 20,
=======
     "execution_count": 27,
>>>>>>> e90629d3edcaa73b38bed2e1883ecfb131929079
     "metadata": {},
     "output_type": "execute_result"
    }
   ],
   "source": [
    "print(\"recommend for user {}\".format(uid))\n",
    "recommDf.query(\"rating != 0\").sort_values(\"predRating\", ascending=False)"
   ]
  },
  {
   "cell_type": "markdown",
   "metadata": {},
   "source": [
    "### Precision At K (K = 10)"
   ]
  },
  {
   "cell_type": "code",
<<<<<<< HEAD
   "execution_count": 21,
   "metadata": {
    "scrolled": true
   },
   "outputs": [
    {
     "data": {
      "image/png": "iVBORw0KGgoAAAANSUhEUgAAAlMAAAEvCAYAAABhSUTPAAAABHNCSVQICAgIfAhkiAAAAAlwSFlz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\n",
      "text/plain": [
       "<matplotlib.figure.Figure at 0x126477390>"
=======
   "execution_count": 28,
   "metadata": {},
   "outputs": [
    {
     "data": {
      "image/png": "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\n",
      "text/plain": [
       "<Figure size 720x360 with 1 Axes>"
>>>>>>> e90629d3edcaa73b38bed2e1883ecfb131929079
      ]
     },
     "metadata": {},
     "output_type": "display_data"
    }
   ],
   "source": [
    "pos_ary, neg_ary = [], []\n",
    "for label in teRatingMat:\n",
    "    label = label[label != 0]\n",
    "    pos_ary.append(sum(label >= 4))\n",
    "    neg_ary.append(sum(label < 4))\n",
    "    # print(\"pos: {}, neg: {}\".format(sum(label >= 4), sum(label < 4)))\n",
    "    \n",
    "def draw_pos_neg(idx):\n",
    "    pd.DataFrame(\n",
    "        index=idx,\n",
    "        data={\"pos\": np.array(pos_ary)[idx], \"neg\": np.array(neg_ary)[idx]}).plot.bar(figsize=(10, 5), alpha=0.8)\n",
    "    plt.show()\n",
    "\n",
    "draw_pos_neg(np.arange(len(teRatingMat))[0:10])"
   ]
  },
  {
   "cell_type": "markdown",
   "metadata": {},
   "source": [
    "### About Test Data Movie Ratings(觀察上圖)\n",
    "```\n",
    "1. 0號, 2號, 5號, 9號 user 正向評價數量 < 10, 就算model全部預測命中, 命中率也不會是 100%!\n",
    "   ex: 0號user只有1個正向評價, 全部命中也指得到0.1的分數\n",
    "2. 3號user正向評價是負向評價的5倍多, 就算亂猜, 中的機率也很高\n",
    "```"
   ]
  },
  {
   "cell_type": "code",
<<<<<<< HEAD
   "execution_count": 22,
=======
   "execution_count": 29,
>>>>>>> e90629d3edcaa73b38bed2e1883ecfb131929079
   "metadata": {},
   "outputs": [
    {
     "name": "stdout",
     "output_type": "stream",
     "text": [
      "266 個user正向評價總數小於10!\n"
     ]
    }
   ],
   "source": [
    "_ = sum(np.sum(teRatingMat >= 4, 1) < 10)\n",
    "print(\"{} 個user正向評價總數小於10!\".format(_))"
   ]
  },
  {
   "cell_type": "code",
<<<<<<< HEAD
   "execution_count": 23,
=======
   "execution_count": 30,
>>>>>>> e90629d3edcaa73b38bed2e1883ecfb131929079
   "metadata": {},
   "outputs": [
    {
     "name": "stdout",
     "output_type": "stream",
     "text": [
      "test data中, rating數量 >= 10 且 負評價數量 >= 正評價數量 有 [209] 人\n",
      "test data中, rating正評價數量 >= 0 且 rating負評價數量 >= 0 有 [669] 人\n"
     ]
    }
   ],
   "source": [
    "def strict_condition(label):\n",
    "    label = label[label != 0]\n",
    "    pos, neg = sum(label >= 4), sum(label < 4)\n",
    "    return len(label) >= 10 and pos <= neg and pos > 0\n",
    "    \n",
    "print(\"test data中, rating數量 >= 10 且 負評價數量 >= 正評價數量 有 [{}] 人\".format(sum(strict_condition(label) for label in teRatingMat)))\n",
    "\n",
    "def norm_condition(label):\n",
    "    label = label[label != 0]\n",
    "    return sum(label >= 4) > 0 and sum(label < 4) > 0\n",
    "\n",
    "print(\"test data中, rating正評價數量 >= 0 且 rating負評價數量 >= 0 有 [{}] 人\".format(sum(norm_condition(label) for label in teRatingMat)))"
   ]
  },
  {
   "cell_type": "markdown",
   "metadata": {},
   "source": [
    "### Precision At K: \n",
    "> **預測分數高(rating >= 4)的前10部電影, 和實際user rating比較, 觀察命中率**"
   ]
  },
  {
   "cell_type": "code",
<<<<<<< HEAD
   "execution_count": 24,
=======
   "execution_count": 31,
>>>>>>> e90629d3edcaa73b38bed2e1883ecfb131929079
   "metadata": {},
   "outputs": [
    {
     "name": "stdout",
     "output_type": "stream",
     "text": [
      "strict condition precision at 10:  0.5057416267942584\n",
      "norm condition precision at 10:  0.6312406576980568\n",
<<<<<<< HEAD
      "CPU times: user 6.85 s, sys: 264 ms, total: 7.11 s\n",
      "Wall time: 6.81 s\n"
=======
      "Wall time: 8.1 s\n"
>>>>>>> e90629d3edcaa73b38bed2e1883ecfb131929079
     ]
    }
   ],
   "source": [
    "%%time\n",
    "from sklearn.metrics import precision_score\n",
    "\n",
    "def precision_at_k(truth, pred_mat, condition_fn=None, k=10, label_thres=4):\n",
    "    hits, total = 0, 0\n",
    "    for label, pr in zip(truth, pred_mat):\n",
    "        if not condition_fn(label): continue\n",
    "\n",
    "        top_k_ind = (pr * (label != 0)).argsort()[::-1][:k]\n",
    "        hits += sum(label[top_k_ind] >= label_thres)\n",
    "        total += k\n",
    "    return hits / total\n",
    "\n",
    "pred_mat= []\n",
    "users = np.arange(nUsers)\n",
    "for pos in range(0, nUsers, 200):\n",
    "    batch = users[pos:pos + 200]\n",
    "    pred_mat.append(model.predict(batch, simFn=cosine_similarity))\n",
    "pred_mat = np.vstack(pred_mat)\n",
    "\n",
    "print( \"strict condition precision at 10: \", precision_at_k(teRatingMat, pred_mat, strict_condition, k=10) )\n",
    "print( \"norm condition precision at 10: \", precision_at_k(teRatingMat, pred_mat, norm_condition, k=10) )"
   ]
  },
  {
   "cell_type": "markdown",
   "metadata": {},
   "source": [
    "### NDCG: Normalized Discounted Cumulative Gain\n",
    "1. A measure of ranking quality.\n",
    "2. loop 每一位user, prediciton score排序後計算NDCG\n",
    "    <br/>$$ DCG_p = \\sum^p_{i = 1} \\frac{2^{rel_i} - 1}{log_2(i + 1)} $$<br/>\n",
    "3. IDCG: Ideal DCG, 為理想狀態下的DCG分數, 即model全部命中的DCG分數, 而NDCG: Normalized DCG, 公式如下\n",
    "    <br/>$$ NDCG_p = \\sum^p_{i = 1} \\frac{DCG_p}{IDCG_p} $$<br/>\n",
    "4. 所以NDCG是一個比值, 介於0 ~ 1之間"
   ]
  },
  {
   "cell_type": "code",
<<<<<<< HEAD
   "execution_count": 25,
=======
   "execution_count": 32,
>>>>>>> e90629d3edcaa73b38bed2e1883ecfb131929079
   "metadata": {},
   "outputs": [
    {
     "name": "stdout",
     "output_type": "stream",
     "text": [
<<<<<<< HEAD
      "strict condition ndcg at 10:  0.6090500500638126\n",
      "norm condition ndcg at 10:  0.75256584234643\n"
=======
      "strict condition ndcg at 10:  0.6092286588238177\n",
      "norm condition ndcg at 10:  0.7526216408977618\n"
>>>>>>> e90629d3edcaa73b38bed2e1883ecfb131929079
     ]
    }
   ],
   "source": [
    "def single_user_ndcg(label, score, label_thres=4, k=10):\n",
    "    \"\"\"single user ndcg score\"\"\"\n",
    "    nnz = label.nonzero()[0]\n",
    "    # if np.sum(label >= label_thres) < k: return None\n",
    "    label, score = label[nnz], score[nnz]\n",
    "    label = (label >= label_thres).astype(int)\n",
    "    return utils.ndcg_score(label, score, k)\n",
    "\n",
    "def all_user_ndcg(label_mat, pred_mat, cond_fn, label_thres=4, k=10):\n",
    "    \"\"\"avg of all user ndcg score\"\"\"\n",
    "    tot_ndcg, actual_cnt = 0, 0\n",
    "    for i, (label, score) in enumerate(zip(label_mat, pred_mat)):\n",
    "        if not cond_fn(label): continue\n",
    "\n",
    "        ndcg = single_user_ndcg(label, score, k=10)\n",
    "        if ndcg is not None:\n",
    "            tot_ndcg += ndcg\n",
    "            actual_cnt += 1\n",
    "    return tot_ndcg / actual_cnt\n",
    "\n",
    "pred_mat = []\n",
    "for pos in range(0, nUsers, 200):\n",
    "    batch = users[pos:pos + 200]\n",
    "    pred_mat.append(model.predict(batch, simFn=cosine_similarity))\n",
    "pred_mat = np.vstack(pred_mat)\n",
    "    \n",
    "strict_ndcg = all_user_ndcg(teRatingMat, pred_mat, strict_condition, label_thres=4, k=10)\n",
    "norm_ndcg = all_user_ndcg(teRatingMat, pred_mat, norm_condition, label_thres=4, k=10)\n",
    "print(\"strict condition ndcg at 10: \", strict_ndcg)\n",
    "print(\"norm condition ndcg at 10: \", norm_ndcg)"
   ]
  },
  {
   "cell_type": "markdown",
   "metadata": {},
   "source": [
    "### ROC_CURVE (Receiver operating characteristic), AUC (Area Under Curve)\n",
    "TP Rate cross FP Rate, 觀察curve的變化\n",
    "1. AUC = 0.5 (no discrimination 無鑑別力)\n",
    "2. 0.7 ≦ AUC ≦ 0.8 (acceptable discrimination 可接受的鑑別力)\n",
    "3. 0.8 ≦ AUC ≦ 0.9 (excellent discrimination 優良的鑑別力)\n",
    "4. 0.9 ≦ AUC ≦ 1.0 (outstanding discrimination 極佳的鑑別力)"
   ]
  },
  {
   "cell_type": "code",
<<<<<<< HEAD
   "execution_count": 26,
=======
   "execution_count": 33,
>>>>>>> e90629d3edcaa73b38bed2e1883ecfb131929079
   "metadata": {},
   "outputs": [
    {
     "name": "stdout",
     "output_type": "stream",
     "text": [
      "auc: 0.6294028719149487\n"
     ]
    },
    {
     "data": {
      "image/png": "iVBORw0KGgoAAAANSUhEUgAAAYgAAAGHCAYAAACqFcXzAAAABHNCSVQICAgIfAhkiAAAAAlwSFlz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\nYII=\n",
      "text/plain": [
       "<matplotlib.figure.Figure at 0x125f3d940>"
      ]
     },
     "metadata": {},
     "output_type": "display_data"
    }
   ],
   "source": [
    "from sklearn.metrics import roc_curve, auc, confusion_matrix\n",
    "\n",
    "def drawRocCurve(y, predProba):\n",
    "    fprRf, tprRf, _ = roc_curve(y, predProba, pos_label=1)\n",
    "    aucScr = auc(fprRf, tprRf)\n",
    "    print(\"auc:\", aucScr)\n",
    "    f, ax = plt.subplots(1, 1, figsize=(6, 6))\n",
    "    \n",
    "    ax.plot([0, 1], [0, 1], 'k--')\n",
    "    ax.plot(fprRf, tprRf, label='ROC CURVE')\n",
    "    ax.set_xlabel('False positive rate')\n",
    "    ax.set_ylabel('True positive rate')\n",
    "    ax.set_title('ROC: Area Under Curve (score: {:.4f})'.format(aucScr))\n",
    "    ax.legend(loc='best')\n",
    "    plt.show()\n",
    "    \n",
    "# 只看非0的部分\n",
    "coord = teRatingMat.nonzero()\n",
    "predMat = model.predict(np.arange(teRatingMat.shape[0]).tolist(), tpe=\"user\")\n",
    "# regard rating >= 4 as user like this movie\n",
    "drawRocCurve((teRatingMat[coord] >= 4).astype(int), predMat[coord])"
   ]
  },
  {
   "cell_type": "markdown",
   "metadata": {},
   "source": [
    "## Baseline: 不經過訓練隨機產生預測值"
   ]
  },
  {
   "cell_type": "code",
<<<<<<< HEAD
   "execution_count": 27,
=======
   "execution_count": 34,
>>>>>>> e90629d3edcaa73b38bed2e1883ecfb131929079
   "metadata": {},
   "outputs": [
    {
     "name": "stdout",
     "output_type": "stream",
     "text": [
<<<<<<< HEAD
      "auc: 0.5041875489681138\n"
=======
      "auc: 0.5004541417128003\n"
>>>>>>> e90629d3edcaa73b38bed2e1883ecfb131929079
     ]
    },
    {
     "data": {
<<<<<<< HEAD
      "image/png": "iVBORw0KGgoAAAANSUhEUgAAAYgAAAGHCAYAAACqFcXzAAAABHNCSVQICAgIfAhkiAAAAAlwSFlz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\nCCIisokNgoiIbGKDICIim/4PDYaYEIGlXmAAAAAASUVORK5CYII=\n",
=======
      "image/png": "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\n",
>>>>>>> e90629d3edcaa73b38bed2e1883ecfb131929079
      "text/plain": [
       "<matplotlib.figure.Figure at 0x12c8d09e8>"
      ]
     },
     "metadata": {},
     "output_type": "display_data"
    }
   ],
   "source": [
    "dummyPredMat = np.random.random((nUsers, nMovies))\n",
    "drawRocCurve((teRatingMat >= 4).astype(int).ravel(), dummyPredMat.ravel())"
   ]
  },
  {
   "cell_type": "markdown",
   "metadata": {},
   "source": [
    "+ 不經過訓練隨機產生預測值 precision at 10"
   ]
  },
  {
   "cell_type": "code",
<<<<<<< HEAD
   "execution_count": 28,
=======
   "execution_count": 35,
>>>>>>> e90629d3edcaa73b38bed2e1883ecfb131929079
   "metadata": {},
   "outputs": [
    {
     "name": "stdout",
     "output_type": "stream",
     "text": [
<<<<<<< HEAD
      "strict condition precision at 10:  0.3784688995215311\n",
      "norm condition precision at 10:  0.5414050822122571\n"
=======
      "strict condition precision at 10:  0.37607655502392345\n",
      "norm condition precision at 10:  0.5479820627802691\n"
>>>>>>> e90629d3edcaa73b38bed2e1883ecfb131929079
     ]
    }
   ],
   "source": [
    "print( \"strict condition precision at 10: \", precision_at_k(teRatingMat, dummyPredMat, strict_condition, k=10) )\n",
    "print( \"norm condition precision at 10: \", precision_at_k(teRatingMat, dummyPredMat, norm_condition, k=10) )"
   ]
  },
  {
   "cell_type": "markdown",
   "metadata": {},
   "source": [
    "+ 不經過訓練隨機產生預測值 ndcg at 10"
   ]
  },
  {
   "cell_type": "code",
<<<<<<< HEAD
   "execution_count": 30,
=======
   "execution_count": 37,
>>>>>>> e90629d3edcaa73b38bed2e1883ecfb131929079
   "metadata": {},
   "outputs": [
    {
     "name": "stdout",
     "output_type": "stream",
     "text": [
<<<<<<< HEAD
      "strict condition ndcg at 10:  0.4478907386969102\n",
      "norm condition ndcg at 10:  0.6357961255156306\n"
=======
      "strict condition ndcg at 10:  0.44651853064984787\n",
      "norm condition ndcg at 10:  0.6378128907198422\n"
>>>>>>> e90629d3edcaa73b38bed2e1883ecfb131929079
     ]
    }
   ],
   "source": [
    "strict_ndcg = all_user_ndcg(teRatingMat, dummyPredMat, strict_condition, label_thres=4, k=10)\n",
    "norm_ndcg = all_user_ndcg(teRatingMat, dummyPredMat, norm_condition, label_thres=4, k=10)\n",
    "print(\"strict condition ndcg at 10: \", strict_ndcg)\n",
    "print(\"norm condition ndcg at 10: \", norm_ndcg)"
   ]
  },
  {
   "cell_type": "markdown",
   "metadata": {},
   "source": [
    "## 7. Concept\n",
    "1. MAE, RMSE, 是最基本拿來評估的指標, Netflix競賽指標就是以RMSE為指標\n",
    "2. AUC(ROC) => TP Rate cross FP Rate, 觀察curve的變化\n",
    "    + AUC = 0.5 (no discrimination 無鑑別力)\n",
    "    + 0.7 ≦ AUC ≦ 0.8 (acceptable discrimination 可接受的鑑別力)\n",
    "    + 0.8 ≦ AUC ≦ 0.9 (excellent discrimination 優良的鑑別力)\n",
    "    + 0.9 ≦ AUC ≦ 1.0 (outstanding discrimination 極佳的鑑別力)\n",
    "3. NDCG rank sensitive的指標, recommendation可視為ranking problem. ex: 跟主題相關的item擺在第1位的分數, \n",
    "    與擺在第5位的分數相比, 前者分數較高\n",
    "4. precision at k與recall at k的部分以recommendation來說會較注重precision, 因為recall需要得知user所有偏愛的items, 而這個資訊通常無法得知"
   ]
  },
  {
   "cell_type": "code",
   "execution_count": null,
   "metadata": {
    "collapsed": true
   },
   "outputs": [],
   "source": []
  }
 ],
 "metadata": {
  "kernelspec": {
   "display_name": "Python 3",
   "language": "python",
   "name": "python3"
  },
  "language_info": {
   "codemirror_mode": {
    "name": "ipython",
    "version": 3
   },
   "file_extension": ".py",
   "mimetype": "text/x-python",
   "name": "python",
   "nbconvert_exporter": "python",
   "pygments_lexer": "ipython3",
   "version": "3.6.2"
  }
 },
 "nbformat": 4,
 "nbformat_minor": 2
}
